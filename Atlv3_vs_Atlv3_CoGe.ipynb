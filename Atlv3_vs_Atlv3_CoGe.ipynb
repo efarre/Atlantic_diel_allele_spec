{
 "cells": [
  {
   "cell_type": "code",
   "execution_count": 38,
   "id": "e3fe4b7d-c550-4c41-b330-002474b5b531",
   "metadata": {},
   "outputs": [],
   "source": [
    "library(dplyr)\n",
    "library(rio) #great for exporting, importing\n",
    "library (stringr)\n",
    "library(cowplot)\n",
    "library(tidyr)\n",
    "library(ggpubr)\n",
    "\n",
    "library(readxl)\n",
    "library(patchwork)\n",
    "library(RColorBrewer)\n",
    "\n",
    "library(viridis)\n",
    "library(ggvenn)"
   ]
  },
  {
   "cell_type": "code",
   "execution_count": 40,
   "id": "aa205261-e502-466a-a15d-4469b4684e79",
   "metadata": {},
   "outputs": [
    {
     "data": {
      "text/plain": [
       "R version 4.3.1 (2023-06-16)\n",
       "Platform: x86_64-apple-darwin13.4.0 (64-bit)\n",
       "Running under: macOS Big Sur ... 10.16\n",
       "\n",
       "Matrix products: default\n",
       "BLAS/LAPACK: /Users/Eva/opt/anaconda3/envs/R4b/lib/libopenblasp-r0.3.26.dylib;  LAPACK version 3.12.0\n",
       "\n",
       "locale:\n",
       "[1] en_US.UTF-8/en_US.UTF-8/en_US.UTF-8/C/en_US.UTF-8/en_US.UTF-8\n",
       "\n",
       "time zone: America/New_York\n",
       "tzcode source: system (macOS)\n",
       "\n",
       "attached base packages:\n",
       "[1] grid      stats     graphics  grDevices utils     datasets  methods  \n",
       "[8] base     \n",
       "\n",
       "other attached packages:\n",
       " [1] ggvenn_0.1.10      viridis_0.6.4      viridisLite_0.4.2  RColorBrewer_1.1-3\n",
       " [5] patchwork_1.1.2    readxl_1.4.3       ggpubr_0.6.0       ggplot2_3.5.0     \n",
       " [9] tidyr_1.3.1        cowplot_1.1.1      stringr_1.5.1      rio_1.0.1         \n",
       "[13] dplyr_1.1.4       \n",
       "\n",
       "loaded via a namespace (and not attached):\n",
       " [1] utf8_1.2.4        generics_0.1.3    rstatix_0.7.2     stringi_1.8.3    \n",
       " [5] digest_0.6.35     magrittr_2.0.3    evaluate_0.23     pbdZMQ_0.3-11    \n",
       " [9] fastmap_1.1.1     R.oo_1.26.0       cellranger_1.1.0  jsonlite_1.8.8   \n",
       "[13] R.utils_2.12.3    backports_1.4.1   gridExtra_2.3     purrr_1.0.2      \n",
       "[17] fansi_1.0.6       scales_1.3.0      textshaping_0.3.7 abind_1.4-5      \n",
       "[21] cli_3.6.2         rlang_1.1.3       crayon_1.5.2      R.methodsS3_1.8.2\n",
       "[25] munsell_0.5.0     base64enc_0.1-3   withr_3.0.0       repr_1.1.6       \n",
       "[29] tools_4.3.1       uuid_1.2-0        ggsignif_0.6.4    colorspace_2.1-0 \n",
       "[33] broom_1.0.5       IRdisplay_1.1     vctrs_0.6.5       R6_2.5.1         \n",
       "[37] lifecycle_1.0.4   car_3.1-2         ragg_1.2.7        pkgconfig_2.0.3  \n",
       "[41] pillar_1.9.0      gtable_0.3.4      data.table_1.15.2 glue_1.7.0       \n",
       "[45] systemfonts_1.0.5 tibble_3.2.1      tidyselect_1.2.0  IRkernel_1.3.2   \n",
       "[49] farver_2.1.1      htmltools_0.5.7   labeling_0.4.3    carData_3.0-5    \n",
       "[53] compiler_4.3.1   "
      ]
     },
     "metadata": {},
     "output_type": "display_data"
    }
   ],
   "source": [
    "sessionInfo()"
   ]
  },
  {
   "cell_type": "markdown",
   "id": "1488377a-69b9-4b37-bb66-1c095698b11a",
   "metadata": {},
   "source": [
    "I run SynMap on the CoGe server (https://genomevolution.org/coge/)\n",
    "I used the Atlatic v3 genome assembly and this gff3 file: ATL_v3.hc_gene_models.gff3 (vv3, 2024-09-03 10:48:34, id155619) to run SynMap between this genome and itself. \n"
   ]
  },
  {
   "cell_type": "code",
   "execution_count": 2,
   "id": "296b3c6f-c613-400c-9bf4-6fc57d629025",
   "metadata": {},
   "outputs": [],
   "source": [
    "## Import Kn and Ks data\n",
    "#:::::::::::::::::::::::::\n",
    "CoGeSynMap <- read.table(text = gsub('\\\\|\\\\|', \"\\t\", readLines(\"20250326_Results_CoGe.txt\")),\n",
    "                         comment.char = \"#\", sep = '\\t')"
   ]
  },
  {
   "cell_type": "code",
   "execution_count": 3,
   "id": "cb30e2d1-da9a-4b5c-b093-ffbeb41e3892",
   "metadata": {},
   "outputs": [
    {
     "data": {
      "text/html": [
       "<table class=\"dataframe\">\n",
       "<caption>A data.frame: 2 × 28</caption>\n",
       "<thead>\n",
       "\t<tr><th></th><th scope=col>V1</th><th scope=col>V2</th><th scope=col>V3</th><th scope=col>V4</th><th scope=col>V5</th><th scope=col>V6</th><th scope=col>V7</th><th scope=col>V8</th><th scope=col>V9</th><th scope=col>V10</th><th scope=col>⋯</th><th scope=col>V19</th><th scope=col>V20</th><th scope=col>V21</th><th scope=col>V22</th><th scope=col>V23</th><th scope=col>V24</th><th scope=col>V25</th><th scope=col>V26</th><th scope=col>V27</th><th scope=col>V28</th></tr>\n",
       "\t<tr><th></th><th scope=col>&lt;dbl&gt;</th><th scope=col>&lt;dbl&gt;</th><th scope=col>&lt;chr&gt;</th><th scope=col>&lt;chr&gt;</th><th scope=col>&lt;int&gt;</th><th scope=col>&lt;int&gt;</th><th scope=col>&lt;chr&gt;</th><th scope=col>&lt;int&gt;</th><th scope=col>&lt;chr&gt;</th><th scope=col>&lt;dbl&gt;</th><th scope=col>⋯</th><th scope=col>&lt;chr&gt;</th><th scope=col>&lt;int&gt;</th><th scope=col>&lt;chr&gt;</th><th scope=col>&lt;dbl&gt;</th><th scope=col>&lt;int&gt;</th><th scope=col>&lt;dbl&gt;</th><th scope=col>&lt;int&gt;</th><th scope=col>&lt;int&gt;</th><th scope=col>&lt;dbl&gt;</th><th scope=col>&lt;int&gt;</th></tr>\n",
       "</thead>\n",
       "<tbody>\n",
       "\t<tr><th scope=row>1</th><td>0.0956</td><td>0.0429</td><td>a68664_10_0</td><td>10_0</td><td>24804675</td><td>24807840</td><td>Soltu.Atl_v3.10_0G015540.1</td><td>-1</td><td>CDS</td><td>4445192778</td><td>⋯</td><td>Soltu.Atl_v3.10_0G018890.2</td><td>-1</td><td>CDS</td><td>4445194791</td><td>3368</td><td>97.45</td><td>28169777</td><td>28166815</td><td>1e-250</td><td> 50</td></tr>\n",
       "\t<tr><th scope=row>2</th><td>0.0276</td><td>0.0033</td><td>a68664_10_0</td><td>10_0</td><td>24813593</td><td>24819428</td><td>Soltu.Atl_v3.10_0G015550.1</td><td>-1</td><td>CDS</td><td>4445192781</td><td>⋯</td><td>Soltu.Atl_v3.10_0G018900.1</td><td>-1</td><td>CDS</td><td>4445194815</td><td>3376</td><td>99.05</td><td>28180296</td><td>28175356</td><td>1e-250</td><td>100</td></tr>\n",
       "</tbody>\n",
       "</table>\n"
      ],
      "text/latex": [
       "A data.frame: 2 × 28\n",
       "\\begin{tabular}{r|lllllllllllllllllllll}\n",
       "  & V1 & V2 & V3 & V4 & V5 & V6 & V7 & V8 & V9 & V10 & ⋯ & V19 & V20 & V21 & V22 & V23 & V24 & V25 & V26 & V27 & V28\\\\\n",
       "  & <dbl> & <dbl> & <chr> & <chr> & <int> & <int> & <chr> & <int> & <chr> & <dbl> & ⋯ & <chr> & <int> & <chr> & <dbl> & <int> & <dbl> & <int> & <int> & <dbl> & <int>\\\\\n",
       "\\hline\n",
       "\t1 & 0.0956 & 0.0429 & a68664\\_10\\_0 & 10\\_0 & 24804675 & 24807840 & Soltu.Atl\\_v3.10\\_0G015540.1 & -1 & CDS & 4445192778 & ⋯ & Soltu.Atl\\_v3.10\\_0G018890.2 & -1 & CDS & 4445194791 & 3368 & 97.45 & 28169777 & 28166815 & 1e-250 &  50\\\\\n",
       "\t2 & 0.0276 & 0.0033 & a68664\\_10\\_0 & 10\\_0 & 24813593 & 24819428 & Soltu.Atl\\_v3.10\\_0G015550.1 & -1 & CDS & 4445192781 & ⋯ & Soltu.Atl\\_v3.10\\_0G018900.1 & -1 & CDS & 4445194815 & 3376 & 99.05 & 28180296 & 28175356 & 1e-250 & 100\\\\\n",
       "\\end{tabular}\n"
      ],
      "text/markdown": [
       "\n",
       "A data.frame: 2 × 28\n",
       "\n",
       "| <!--/--> | V1 &lt;dbl&gt; | V2 &lt;dbl&gt; | V3 &lt;chr&gt; | V4 &lt;chr&gt; | V5 &lt;int&gt; | V6 &lt;int&gt; | V7 &lt;chr&gt; | V8 &lt;int&gt; | V9 &lt;chr&gt; | V10 &lt;dbl&gt; | ⋯ ⋯ | V19 &lt;chr&gt; | V20 &lt;int&gt; | V21 &lt;chr&gt; | V22 &lt;dbl&gt; | V23 &lt;int&gt; | V24 &lt;dbl&gt; | V25 &lt;int&gt; | V26 &lt;int&gt; | V27 &lt;dbl&gt; | V28 &lt;int&gt; |\n",
       "|---|---|---|---|---|---|---|---|---|---|---|---|---|---|---|---|---|---|---|---|---|---|\n",
       "| 1 | 0.0956 | 0.0429 | a68664_10_0 | 10_0 | 24804675 | 24807840 | Soltu.Atl_v3.10_0G015540.1 | -1 | CDS | 4445192778 | ⋯ | Soltu.Atl_v3.10_0G018890.2 | -1 | CDS | 4445194791 | 3368 | 97.45 | 28169777 | 28166815 | 1e-250 |  50 |\n",
       "| 2 | 0.0276 | 0.0033 | a68664_10_0 | 10_0 | 24813593 | 24819428 | Soltu.Atl_v3.10_0G015550.1 | -1 | CDS | 4445192781 | ⋯ | Soltu.Atl_v3.10_0G018900.1 | -1 | CDS | 4445194815 | 3376 | 99.05 | 28180296 | 28175356 | 1e-250 | 100 |\n",
       "\n"
      ],
      "text/plain": [
       "  V1     V2     V3          V4   V5       V6       V7                        \n",
       "1 0.0956 0.0429 a68664_10_0 10_0 24804675 24807840 Soltu.Atl_v3.10_0G015540.1\n",
       "2 0.0276 0.0033 a68664_10_0 10_0 24813593 24819428 Soltu.Atl_v3.10_0G015550.1\n",
       "  V8 V9  V10        ⋯ V19                        V20 V21 V22        V23  V24  \n",
       "1 -1 CDS 4445192778 ⋯ Soltu.Atl_v3.10_0G018890.2 -1  CDS 4445194791 3368 97.45\n",
       "2 -1 CDS 4445192781 ⋯ Soltu.Atl_v3.10_0G018900.1 -1  CDS 4445194815 3376 99.05\n",
       "  V25      V26      V27    V28\n",
       "1 28169777 28166815 1e-250  50\n",
       "2 28180296 28175356 1e-250 100"
      ]
     },
     "metadata": {},
     "output_type": "display_data"
    }
   ],
   "source": [
    "CoGeSynMap[1:2,]"
   ]
  },
  {
   "cell_type": "markdown",
   "id": "225a78e4-ecdf-49cf-8680-603e085ab318",
   "metadata": {},
   "source": [
    "**NOTE:** there are 2 start and stops for each gene, one seems to have direction information. I am giving them separate names so that all columns have different names. \n",
    "\n",
    "\n"
   ]
  },
  {
   "cell_type": "code",
   "execution_count": 4,
   "id": "ba7c4e88-6b8c-412d-aea5-8da7cdd2b2aa",
   "metadata": {},
   "outputs": [],
   "source": [
    "Header<- c('Ks','Kn','a_db_genome_id','chr1','start1',\n",
    "        'stop1','name1','strand1','type1','db_feature_id1',\n",
    "    'genome_order1','percent_id1','start1_B','stop1_B','b_db_genome_id',\n",
    "'chr2','start2','stop2','name2','strand2','type2',\n",
    "    'db_feature_id2','genome_order2','percent_id2','start2_B','stop2_B','eval','block_score','GEVO_link')"
   ]
  },
  {
   "cell_type": "code",
   "execution_count": 5,
   "id": "15755664-7796-4a91-bcb7-33e55ef0e85f",
   "metadata": {},
   "outputs": [
    {
     "data": {
      "text/html": [
       "<style>\n",
       ".list-inline {list-style: none; margin:0; padding: 0}\n",
       ".list-inline>li {display: inline-block}\n",
       ".list-inline>li:not(:last-child)::after {content: \"\\00b7\"; padding: 0 .5ex}\n",
       "</style>\n",
       "<ol class=list-inline><li>'Ks'</li><li>'Kn'</li><li>'a_db_genome_id'</li><li>'chr1'</li><li>'start1'</li><li>'stop1'</li><li>'name1'</li><li>'strand1'</li><li>'type1'</li><li>'db_feature_id1'</li><li>'genome_order1'</li><li>'percent_id1'</li><li>'start1_B'</li><li>'stop1_B'</li><li>'b_db_genome_id'</li><li>'chr2'</li><li>'start2'</li><li>'stop2'</li><li>'name2'</li><li>'strand2'</li><li>'type2'</li><li>'db_feature_id2'</li><li>'genome_order2'</li><li>'percent_id2'</li><li>'start2_B'</li><li>'stop2_B'</li><li>'eval'</li><li>'block_score'</li><li>'GEVO_link'</li></ol>\n"
      ],
      "text/latex": [
       "\\begin{enumerate*}\n",
       "\\item 'Ks'\n",
       "\\item 'Kn'\n",
       "\\item 'a\\_db\\_genome\\_id'\n",
       "\\item 'chr1'\n",
       "\\item 'start1'\n",
       "\\item 'stop1'\n",
       "\\item 'name1'\n",
       "\\item 'strand1'\n",
       "\\item 'type1'\n",
       "\\item 'db\\_feature\\_id1'\n",
       "\\item 'genome\\_order1'\n",
       "\\item 'percent\\_id1'\n",
       "\\item 'start1\\_B'\n",
       "\\item 'stop1\\_B'\n",
       "\\item 'b\\_db\\_genome\\_id'\n",
       "\\item 'chr2'\n",
       "\\item 'start2'\n",
       "\\item 'stop2'\n",
       "\\item 'name2'\n",
       "\\item 'strand2'\n",
       "\\item 'type2'\n",
       "\\item 'db\\_feature\\_id2'\n",
       "\\item 'genome\\_order2'\n",
       "\\item 'percent\\_id2'\n",
       "\\item 'start2\\_B'\n",
       "\\item 'stop2\\_B'\n",
       "\\item 'eval'\n",
       "\\item 'block\\_score'\n",
       "\\item 'GEVO\\_link'\n",
       "\\end{enumerate*}\n"
      ],
      "text/markdown": [
       "1. 'Ks'\n",
       "2. 'Kn'\n",
       "3. 'a_db_genome_id'\n",
       "4. 'chr1'\n",
       "5. 'start1'\n",
       "6. 'stop1'\n",
       "7. 'name1'\n",
       "8. 'strand1'\n",
       "9. 'type1'\n",
       "10. 'db_feature_id1'\n",
       "11. 'genome_order1'\n",
       "12. 'percent_id1'\n",
       "13. 'start1_B'\n",
       "14. 'stop1_B'\n",
       "15. 'b_db_genome_id'\n",
       "16. 'chr2'\n",
       "17. 'start2'\n",
       "18. 'stop2'\n",
       "19. 'name2'\n",
       "20. 'strand2'\n",
       "21. 'type2'\n",
       "22. 'db_feature_id2'\n",
       "23. 'genome_order2'\n",
       "24. 'percent_id2'\n",
       "25. 'start2_B'\n",
       "26. 'stop2_B'\n",
       "27. 'eval'\n",
       "28. 'block_score'\n",
       "29. 'GEVO_link'\n",
       "\n",
       "\n"
      ],
      "text/plain": [
       " [1] \"Ks\"             \"Kn\"             \"a_db_genome_id\" \"chr1\"          \n",
       " [5] \"start1\"         \"stop1\"          \"name1\"          \"strand1\"       \n",
       " [9] \"type1\"          \"db_feature_id1\" \"genome_order1\"  \"percent_id1\"   \n",
       "[13] \"start1_B\"       \"stop1_B\"        \"b_db_genome_id\" \"chr2\"          \n",
       "[17] \"start2\"         \"stop2\"          \"name2\"          \"strand2\"       \n",
       "[21] \"type2\"          \"db_feature_id2\" \"genome_order2\"  \"percent_id2\"   \n",
       "[25] \"start2_B\"       \"stop2_B\"        \"eval\"           \"block_score\"   \n",
       "[29] \"GEVO_link\"     "
      ]
     },
     "metadata": {},
     "output_type": "display_data"
    }
   ],
   "source": [
    "Header"
   ]
  },
  {
   "cell_type": "code",
   "execution_count": 6,
   "id": "08977194-4f2d-4cd3-9c9b-ddee74a1fa3d",
   "metadata": {},
   "outputs": [
    {
     "data": {
      "text/html": [
       "29"
      ],
      "text/latex": [
       "29"
      ],
      "text/markdown": [
       "29"
      ],
      "text/plain": [
       "[1] 29"
      ]
     },
     "metadata": {},
     "output_type": "display_data"
    },
    {
     "data": {
      "text/html": [
       "28"
      ],
      "text/latex": [
       "28"
      ],
      "text/markdown": [
       "28"
      ],
      "text/plain": [
       "[1] 28"
      ]
     },
     "metadata": {},
     "output_type": "display_data"
    }
   ],
   "source": [
    "length(Header)\n",
    "ncol(CoGeSynMap)"
   ]
  },
  {
   "cell_type": "code",
   "execution_count": 7,
   "id": "a32fab5d-397c-437e-87e8-aa924bc6a5bb",
   "metadata": {},
   "outputs": [
    {
     "data": {
      "text/html": [
       "<style>\n",
       ".list-inline {list-style: none; margin:0; padding: 0}\n",
       ".list-inline>li {display: inline-block}\n",
       ".list-inline>li:not(:last-child)::after {content: \"\\00b7\"; padding: 0 .5ex}\n",
       "</style>\n",
       "<ol class=list-inline><li>'Ks'</li><li>'Kn'</li><li>'a_db_genome_id'</li><li>'chr1'</li><li>'start1'</li><li>'stop1'</li><li>'name1'</li><li>'strand1'</li><li>'type1'</li><li>'db_feature_id1'</li><li>'genome_order1'</li><li>'percent_id1'</li><li>'start1_B'</li><li>'stop1_B'</li><li>'b_db_genome_id'</li><li>'chr2'</li><li>'start2'</li><li>'stop2'</li><li>'name2'</li><li>'strand2'</li><li>'type2'</li><li>'db_feature_id2'</li><li>'genome_order2'</li><li>'percent_id2'</li><li>'start2_B'</li><li>'stop2_B'</li><li>'eval'</li><li>'block_score'</li></ol>\n"
      ],
      "text/latex": [
       "\\begin{enumerate*}\n",
       "\\item 'Ks'\n",
       "\\item 'Kn'\n",
       "\\item 'a\\_db\\_genome\\_id'\n",
       "\\item 'chr1'\n",
       "\\item 'start1'\n",
       "\\item 'stop1'\n",
       "\\item 'name1'\n",
       "\\item 'strand1'\n",
       "\\item 'type1'\n",
       "\\item 'db\\_feature\\_id1'\n",
       "\\item 'genome\\_order1'\n",
       "\\item 'percent\\_id1'\n",
       "\\item 'start1\\_B'\n",
       "\\item 'stop1\\_B'\n",
       "\\item 'b\\_db\\_genome\\_id'\n",
       "\\item 'chr2'\n",
       "\\item 'start2'\n",
       "\\item 'stop2'\n",
       "\\item 'name2'\n",
       "\\item 'strand2'\n",
       "\\item 'type2'\n",
       "\\item 'db\\_feature\\_id2'\n",
       "\\item 'genome\\_order2'\n",
       "\\item 'percent\\_id2'\n",
       "\\item 'start2\\_B'\n",
       "\\item 'stop2\\_B'\n",
       "\\item 'eval'\n",
       "\\item 'block\\_score'\n",
       "\\end{enumerate*}\n"
      ],
      "text/markdown": [
       "1. 'Ks'\n",
       "2. 'Kn'\n",
       "3. 'a_db_genome_id'\n",
       "4. 'chr1'\n",
       "5. 'start1'\n",
       "6. 'stop1'\n",
       "7. 'name1'\n",
       "8. 'strand1'\n",
       "9. 'type1'\n",
       "10. 'db_feature_id1'\n",
       "11. 'genome_order1'\n",
       "12. 'percent_id1'\n",
       "13. 'start1_B'\n",
       "14. 'stop1_B'\n",
       "15. 'b_db_genome_id'\n",
       "16. 'chr2'\n",
       "17. 'start2'\n",
       "18. 'stop2'\n",
       "19. 'name2'\n",
       "20. 'strand2'\n",
       "21. 'type2'\n",
       "22. 'db_feature_id2'\n",
       "23. 'genome_order2'\n",
       "24. 'percent_id2'\n",
       "25. 'start2_B'\n",
       "26. 'stop2_B'\n",
       "27. 'eval'\n",
       "28. 'block_score'\n",
       "\n",
       "\n"
      ],
      "text/plain": [
       " [1] \"Ks\"             \"Kn\"             \"a_db_genome_id\" \"chr1\"          \n",
       " [5] \"start1\"         \"stop1\"          \"name1\"          \"strand1\"       \n",
       " [9] \"type1\"          \"db_feature_id1\" \"genome_order1\"  \"percent_id1\"   \n",
       "[13] \"start1_B\"       \"stop1_B\"        \"b_db_genome_id\" \"chr2\"          \n",
       "[17] \"start2\"         \"stop2\"          \"name2\"          \"strand2\"       \n",
       "[21] \"type2\"          \"db_feature_id2\" \"genome_order2\"  \"percent_id2\"   \n",
       "[25] \"start2_B\"       \"stop2_B\"        \"eval\"           \"block_score\"   "
      ]
     },
     "metadata": {},
     "output_type": "display_data"
    }
   ],
   "source": [
    "## Remove column name GEVO_link since there is no link in this output\n",
    "#:::::::::::::::::::::::::::::::::::::::::::::::::::::::::::::::::::::\n",
    "HeaderB <- Header[1:28]\n",
    "HeaderB"
   ]
  },
  {
   "cell_type": "code",
   "execution_count": 8,
   "id": "1841b4b0-58bc-4caa-9b9e-53668e9329f2",
   "metadata": {},
   "outputs": [],
   "source": [
    "colnames(CoGeSynMap) <- HeaderB"
   ]
  },
  {
   "cell_type": "code",
   "execution_count": 9,
   "id": "45ba5b49-d222-42ef-8c56-724fbab358e5",
   "metadata": {},
   "outputs": [
    {
     "data": {
      "text/html": [
       "<table class=\"dataframe\">\n",
       "<caption>A data.frame: 6 × 28</caption>\n",
       "<thead>\n",
       "\t<tr><th></th><th scope=col>Ks</th><th scope=col>Kn</th><th scope=col>a_db_genome_id</th><th scope=col>chr1</th><th scope=col>start1</th><th scope=col>stop1</th><th scope=col>name1</th><th scope=col>strand1</th><th scope=col>type1</th><th scope=col>db_feature_id1</th><th scope=col>⋯</th><th scope=col>name2</th><th scope=col>strand2</th><th scope=col>type2</th><th scope=col>db_feature_id2</th><th scope=col>genome_order2</th><th scope=col>percent_id2</th><th scope=col>start2_B</th><th scope=col>stop2_B</th><th scope=col>eval</th><th scope=col>block_score</th></tr>\n",
       "\t<tr><th></th><th scope=col>&lt;dbl&gt;</th><th scope=col>&lt;dbl&gt;</th><th scope=col>&lt;chr&gt;</th><th scope=col>&lt;chr&gt;</th><th scope=col>&lt;int&gt;</th><th scope=col>&lt;int&gt;</th><th scope=col>&lt;chr&gt;</th><th scope=col>&lt;int&gt;</th><th scope=col>&lt;chr&gt;</th><th scope=col>&lt;dbl&gt;</th><th scope=col>⋯</th><th scope=col>&lt;chr&gt;</th><th scope=col>&lt;int&gt;</th><th scope=col>&lt;chr&gt;</th><th scope=col>&lt;dbl&gt;</th><th scope=col>&lt;int&gt;</th><th scope=col>&lt;dbl&gt;</th><th scope=col>&lt;int&gt;</th><th scope=col>&lt;int&gt;</th><th scope=col>&lt;dbl&gt;</th><th scope=col>&lt;int&gt;</th></tr>\n",
       "</thead>\n",
       "<tbody>\n",
       "\t<tr><th scope=row>1</th><td> 0.0956</td><td>0.0429</td><td>a68664_10_0</td><td>10_0</td><td>24804675</td><td>24807840</td><td>Soltu.Atl_v3.10_0G015540.1</td><td>-1</td><td>CDS</td><td>4445192778</td><td>⋯</td><td>Soltu.Atl_v3.10_0G018890.2</td><td>-1</td><td>CDS</td><td>4445194791</td><td>3368</td><td>97.45</td><td>28169777</td><td>28166815</td><td>1.0e-250</td><td> 50</td></tr>\n",
       "\t<tr><th scope=row>2</th><td> 0.0276</td><td>0.0033</td><td>a68664_10_0</td><td>10_0</td><td>24813593</td><td>24819428</td><td>Soltu.Atl_v3.10_0G015550.1</td><td>-1</td><td>CDS</td><td>4445192781</td><td>⋯</td><td>Soltu.Atl_v3.10_0G018900.1</td><td>-1</td><td>CDS</td><td>4445194815</td><td>3376</td><td>99.05</td><td>28180296</td><td>28175356</td><td>1.0e-250</td><td>100</td></tr>\n",
       "\t<tr><th scope=row>3</th><td>38.4927</td><td>1.4706</td><td>a68664_10_0</td><td>10_0</td><td>24830339</td><td>24833361</td><td>Soltu.Atl_v3.10_0G015600.1</td><td>-1</td><td>CDS</td><td>4445192799</td><td>⋯</td><td>Soltu.Atl_v3.10_0G018910.1</td><td>-1</td><td>CDS</td><td>4445194824</td><td>3379</td><td>98.48</td><td>28181825</td><td>28181270</td><td>2.4e-225</td><td>150</td></tr>\n",
       "\t<tr><th scope=row>4</th><td> 0.0763</td><td>0.0164</td><td>a68664_10_0</td><td>10_0</td><td>24834186</td><td>24834773</td><td>Soltu.Atl_v3.10_0G015610.1</td><td> 1</td><td>CDS</td><td>4445192805</td><td>⋯</td><td>Soltu.Atl_v3.10_0G019010.1</td><td> 1</td><td>CDS</td><td>4445194881</td><td>3398</td><td>97.28</td><td>28222998</td><td>28223585</td><td>1.0e-250</td><td>200</td></tr>\n",
       "\t<tr><th scope=row>5</th><td> 0.0150</td><td>0.0197</td><td>a68664_10_0</td><td>10_0</td><td>24843865</td><td>24844422</td><td>Soltu.Atl_v3.10_0G015620.1</td><td>-1</td><td>CDS</td><td>4445192808</td><td>⋯</td><td>Soltu.Atl_v3.10_0G019120.1</td><td>-1</td><td>CDS</td><td>4445194944</td><td>3419</td><td>98.21</td><td>28273987</td><td>28273430</td><td>1.0e-250</td><td>250</td></tr>\n",
       "\t<tr><th scope=row>6</th><td> 0.0786</td><td>0.0336</td><td>a68664_10_0</td><td>10_0</td><td>24853795</td><td>24857031</td><td>Soltu.Atl_v3.10_0G015640.1</td><td> 1</td><td>CDS</td><td>4445192814</td><td>⋯</td><td>Soltu.Atl_v3.10_0G019240.1</td><td> 1</td><td>CDS</td><td>4445194980</td><td>3431</td><td>97.36</td><td>28345258</td><td>28348476</td><td>1.0e-250</td><td>297</td></tr>\n",
       "</tbody>\n",
       "</table>\n"
      ],
      "text/latex": [
       "A data.frame: 6 × 28\n",
       "\\begin{tabular}{r|lllllllllllllllllllll}\n",
       "  & Ks & Kn & a\\_db\\_genome\\_id & chr1 & start1 & stop1 & name1 & strand1 & type1 & db\\_feature\\_id1 & ⋯ & name2 & strand2 & type2 & db\\_feature\\_id2 & genome\\_order2 & percent\\_id2 & start2\\_B & stop2\\_B & eval & block\\_score\\\\\n",
       "  & <dbl> & <dbl> & <chr> & <chr> & <int> & <int> & <chr> & <int> & <chr> & <dbl> & ⋯ & <chr> & <int> & <chr> & <dbl> & <int> & <dbl> & <int> & <int> & <dbl> & <int>\\\\\n",
       "\\hline\n",
       "\t1 &  0.0956 & 0.0429 & a68664\\_10\\_0 & 10\\_0 & 24804675 & 24807840 & Soltu.Atl\\_v3.10\\_0G015540.1 & -1 & CDS & 4445192778 & ⋯ & Soltu.Atl\\_v3.10\\_0G018890.2 & -1 & CDS & 4445194791 & 3368 & 97.45 & 28169777 & 28166815 & 1.0e-250 &  50\\\\\n",
       "\t2 &  0.0276 & 0.0033 & a68664\\_10\\_0 & 10\\_0 & 24813593 & 24819428 & Soltu.Atl\\_v3.10\\_0G015550.1 & -1 & CDS & 4445192781 & ⋯ & Soltu.Atl\\_v3.10\\_0G018900.1 & -1 & CDS & 4445194815 & 3376 & 99.05 & 28180296 & 28175356 & 1.0e-250 & 100\\\\\n",
       "\t3 & 38.4927 & 1.4706 & a68664\\_10\\_0 & 10\\_0 & 24830339 & 24833361 & Soltu.Atl\\_v3.10\\_0G015600.1 & -1 & CDS & 4445192799 & ⋯ & Soltu.Atl\\_v3.10\\_0G018910.1 & -1 & CDS & 4445194824 & 3379 & 98.48 & 28181825 & 28181270 & 2.4e-225 & 150\\\\\n",
       "\t4 &  0.0763 & 0.0164 & a68664\\_10\\_0 & 10\\_0 & 24834186 & 24834773 & Soltu.Atl\\_v3.10\\_0G015610.1 &  1 & CDS & 4445192805 & ⋯ & Soltu.Atl\\_v3.10\\_0G019010.1 &  1 & CDS & 4445194881 & 3398 & 97.28 & 28222998 & 28223585 & 1.0e-250 & 200\\\\\n",
       "\t5 &  0.0150 & 0.0197 & a68664\\_10\\_0 & 10\\_0 & 24843865 & 24844422 & Soltu.Atl\\_v3.10\\_0G015620.1 & -1 & CDS & 4445192808 & ⋯ & Soltu.Atl\\_v3.10\\_0G019120.1 & -1 & CDS & 4445194944 & 3419 & 98.21 & 28273987 & 28273430 & 1.0e-250 & 250\\\\\n",
       "\t6 &  0.0786 & 0.0336 & a68664\\_10\\_0 & 10\\_0 & 24853795 & 24857031 & Soltu.Atl\\_v3.10\\_0G015640.1 &  1 & CDS & 4445192814 & ⋯ & Soltu.Atl\\_v3.10\\_0G019240.1 &  1 & CDS & 4445194980 & 3431 & 97.36 & 28345258 & 28348476 & 1.0e-250 & 297\\\\\n",
       "\\end{tabular}\n"
      ],
      "text/markdown": [
       "\n",
       "A data.frame: 6 × 28\n",
       "\n",
       "| <!--/--> | Ks &lt;dbl&gt; | Kn &lt;dbl&gt; | a_db_genome_id &lt;chr&gt; | chr1 &lt;chr&gt; | start1 &lt;int&gt; | stop1 &lt;int&gt; | name1 &lt;chr&gt; | strand1 &lt;int&gt; | type1 &lt;chr&gt; | db_feature_id1 &lt;dbl&gt; | ⋯ ⋯ | name2 &lt;chr&gt; | strand2 &lt;int&gt; | type2 &lt;chr&gt; | db_feature_id2 &lt;dbl&gt; | genome_order2 &lt;int&gt; | percent_id2 &lt;dbl&gt; | start2_B &lt;int&gt; | stop2_B &lt;int&gt; | eval &lt;dbl&gt; | block_score &lt;int&gt; |\n",
       "|---|---|---|---|---|---|---|---|---|---|---|---|---|---|---|---|---|---|---|---|---|---|\n",
       "| 1 |  0.0956 | 0.0429 | a68664_10_0 | 10_0 | 24804675 | 24807840 | Soltu.Atl_v3.10_0G015540.1 | -1 | CDS | 4445192778 | ⋯ | Soltu.Atl_v3.10_0G018890.2 | -1 | CDS | 4445194791 | 3368 | 97.45 | 28169777 | 28166815 | 1.0e-250 |  50 |\n",
       "| 2 |  0.0276 | 0.0033 | a68664_10_0 | 10_0 | 24813593 | 24819428 | Soltu.Atl_v3.10_0G015550.1 | -1 | CDS | 4445192781 | ⋯ | Soltu.Atl_v3.10_0G018900.1 | -1 | CDS | 4445194815 | 3376 | 99.05 | 28180296 | 28175356 | 1.0e-250 | 100 |\n",
       "| 3 | 38.4927 | 1.4706 | a68664_10_0 | 10_0 | 24830339 | 24833361 | Soltu.Atl_v3.10_0G015600.1 | -1 | CDS | 4445192799 | ⋯ | Soltu.Atl_v3.10_0G018910.1 | -1 | CDS | 4445194824 | 3379 | 98.48 | 28181825 | 28181270 | 2.4e-225 | 150 |\n",
       "| 4 |  0.0763 | 0.0164 | a68664_10_0 | 10_0 | 24834186 | 24834773 | Soltu.Atl_v3.10_0G015610.1 |  1 | CDS | 4445192805 | ⋯ | Soltu.Atl_v3.10_0G019010.1 |  1 | CDS | 4445194881 | 3398 | 97.28 | 28222998 | 28223585 | 1.0e-250 | 200 |\n",
       "| 5 |  0.0150 | 0.0197 | a68664_10_0 | 10_0 | 24843865 | 24844422 | Soltu.Atl_v3.10_0G015620.1 | -1 | CDS | 4445192808 | ⋯ | Soltu.Atl_v3.10_0G019120.1 | -1 | CDS | 4445194944 | 3419 | 98.21 | 28273987 | 28273430 | 1.0e-250 | 250 |\n",
       "| 6 |  0.0786 | 0.0336 | a68664_10_0 | 10_0 | 24853795 | 24857031 | Soltu.Atl_v3.10_0G015640.1 |  1 | CDS | 4445192814 | ⋯ | Soltu.Atl_v3.10_0G019240.1 |  1 | CDS | 4445194980 | 3431 | 97.36 | 28345258 | 28348476 | 1.0e-250 | 297 |\n",
       "\n"
      ],
      "text/plain": [
       "  Ks      Kn     a_db_genome_id chr1 start1   stop1   \n",
       "1  0.0956 0.0429 a68664_10_0    10_0 24804675 24807840\n",
       "2  0.0276 0.0033 a68664_10_0    10_0 24813593 24819428\n",
       "3 38.4927 1.4706 a68664_10_0    10_0 24830339 24833361\n",
       "4  0.0763 0.0164 a68664_10_0    10_0 24834186 24834773\n",
       "5  0.0150 0.0197 a68664_10_0    10_0 24843865 24844422\n",
       "6  0.0786 0.0336 a68664_10_0    10_0 24853795 24857031\n",
       "  name1                      strand1 type1 db_feature_id1 ⋯\n",
       "1 Soltu.Atl_v3.10_0G015540.1 -1      CDS   4445192778     ⋯\n",
       "2 Soltu.Atl_v3.10_0G015550.1 -1      CDS   4445192781     ⋯\n",
       "3 Soltu.Atl_v3.10_0G015600.1 -1      CDS   4445192799     ⋯\n",
       "4 Soltu.Atl_v3.10_0G015610.1  1      CDS   4445192805     ⋯\n",
       "5 Soltu.Atl_v3.10_0G015620.1 -1      CDS   4445192808     ⋯\n",
       "6 Soltu.Atl_v3.10_0G015640.1  1      CDS   4445192814     ⋯\n",
       "  name2                      strand2 type2 db_feature_id2 genome_order2\n",
       "1 Soltu.Atl_v3.10_0G018890.2 -1      CDS   4445194791     3368         \n",
       "2 Soltu.Atl_v3.10_0G018900.1 -1      CDS   4445194815     3376         \n",
       "3 Soltu.Atl_v3.10_0G018910.1 -1      CDS   4445194824     3379         \n",
       "4 Soltu.Atl_v3.10_0G019010.1  1      CDS   4445194881     3398         \n",
       "5 Soltu.Atl_v3.10_0G019120.1 -1      CDS   4445194944     3419         \n",
       "6 Soltu.Atl_v3.10_0G019240.1  1      CDS   4445194980     3431         \n",
       "  percent_id2 start2_B stop2_B  eval     block_score\n",
       "1 97.45       28169777 28166815 1.0e-250  50        \n",
       "2 99.05       28180296 28175356 1.0e-250 100        \n",
       "3 98.48       28181825 28181270 2.4e-225 150        \n",
       "4 97.28       28222998 28223585 1.0e-250 200        \n",
       "5 98.21       28273987 28273430 1.0e-250 250        \n",
       "6 97.36       28345258 28348476 1.0e-250 297        "
      ]
     },
     "metadata": {},
     "output_type": "display_data"
    },
    {
     "data": {
      "text/html": [
       "<table class=\"dataframe\">\n",
       "<caption>A data.frame: 6 × 28</caption>\n",
       "<thead>\n",
       "\t<tr><th></th><th scope=col>Ks</th><th scope=col>Kn</th><th scope=col>a_db_genome_id</th><th scope=col>chr1</th><th scope=col>start1</th><th scope=col>stop1</th><th scope=col>name1</th><th scope=col>strand1</th><th scope=col>type1</th><th scope=col>db_feature_id1</th><th scope=col>⋯</th><th scope=col>name2</th><th scope=col>strand2</th><th scope=col>type2</th><th scope=col>db_feature_id2</th><th scope=col>genome_order2</th><th scope=col>percent_id2</th><th scope=col>start2_B</th><th scope=col>stop2_B</th><th scope=col>eval</th><th scope=col>block_score</th></tr>\n",
       "\t<tr><th></th><th scope=col>&lt;dbl&gt;</th><th scope=col>&lt;dbl&gt;</th><th scope=col>&lt;chr&gt;</th><th scope=col>&lt;chr&gt;</th><th scope=col>&lt;int&gt;</th><th scope=col>&lt;int&gt;</th><th scope=col>&lt;chr&gt;</th><th scope=col>&lt;int&gt;</th><th scope=col>&lt;chr&gt;</th><th scope=col>&lt;dbl&gt;</th><th scope=col>⋯</th><th scope=col>&lt;chr&gt;</th><th scope=col>&lt;int&gt;</th><th scope=col>&lt;chr&gt;</th><th scope=col>&lt;dbl&gt;</th><th scope=col>&lt;int&gt;</th><th scope=col>&lt;dbl&gt;</th><th scope=col>&lt;int&gt;</th><th scope=col>&lt;int&gt;</th><th scope=col>&lt;dbl&gt;</th><th scope=col>&lt;int&gt;</th></tr>\n",
       "</thead>\n",
       "<tbody>\n",
       "\t<tr><th scope=row>213649</th><td>0.0228</td><td>0.0055</td><td>a68664_scf_99</td><td>scf_99</td><td>134060</td><td>145555</td><td>Soltu.Atl_v3.S008650.1</td><td>-1</td><td>CDS</td><td>4445991408</td><td>⋯</td><td>Soltu.Atl_v3.12_3G017450.1</td><td>-1</td><td>CDS</td><td>4445314446</td><td>42925</td><td>98.94</td><td>43632234</td><td>43620781</td><td>1.0e-250</td><td>150</td></tr>\n",
       "\t<tr><th scope=row>213650</th><td>0.2351</td><td>0.1818</td><td>a68664_scf_99</td><td>scf_99</td><td>217885</td><td>221820</td><td>Soltu.Atl_v3.S008680.1</td><td>-1</td><td>CDS</td><td>4445991411</td><td>⋯</td><td>Soltu.Atl_v3.12_3G017470.1</td><td>-1</td><td>CDS</td><td>4445314449</td><td>42926</td><td>99.52</td><td>43748423</td><td>43743615</td><td>1.0e-250</td><td>197</td></tr>\n",
       "\t<tr><th scope=row>213651</th><td>0.0256</td><td>0.0044</td><td>a68664_scf_99</td><td>scf_99</td><td>233260</td><td>234328</td><td>Soltu.Atl_v3.S008700.2</td><td>-1</td><td>CDS</td><td>4445991420</td><td>⋯</td><td>Soltu.Atl_v3.12_3G017500.1</td><td>-1</td><td>CDS</td><td>4445314461</td><td>42930</td><td>98.90</td><td>43759249</td><td>43758108</td><td>2.6e-177</td><td>247</td></tr>\n",
       "\t<tr><th scope=row>213652</th><td>0.0712</td><td>0.0232</td><td>a68664_scf_99</td><td>scf_99</td><td>245300</td><td>253928</td><td>Soltu.Atl_v3.S008710.1</td><td> 1</td><td>CDS</td><td>4445991423</td><td>⋯</td><td>Soltu.Atl_v3.12_3G017520.1</td><td> 1</td><td>CDS</td><td>4445314467</td><td>42932</td><td>99.17</td><td>43792921</td><td>43797859</td><td>1.0e-250</td><td>297</td></tr>\n",
       "\t<tr><th scope=row>213653</th><td>0.0329</td><td>0.0063</td><td>a68664_scf_99</td><td>scf_99</td><td>264147</td><td>268248</td><td>Soltu.Atl_v3.S008720.1</td><td>-1</td><td>CDS</td><td>4445991441</td><td>⋯</td><td>Soltu.Atl_v3.12_3G017530.1</td><td>-1</td><td>CDS</td><td>4445314470</td><td>42933</td><td>98.17</td><td>43817756</td><td>43813658</td><td>1.0e-250</td><td>347</td></tr>\n",
       "\t<tr><th scope=row>213654</th><td>0.0861</td><td>0.0444</td><td>a68664_scf_99</td><td>scf_99</td><td>331915</td><td>334175</td><td>Soltu.Atl_v3.S008730.1</td><td> 1</td><td>CDS</td><td>4445991453</td><td>⋯</td><td>Soltu.Atl_v3.12_3G017570.1</td><td> 1</td><td>CDS</td><td>4445314473</td><td>42934</td><td>99.32</td><td>43883529</td><td>43885834</td><td>5.5e-215</td><td>394</td></tr>\n",
       "</tbody>\n",
       "</table>\n"
      ],
      "text/latex": [
       "A data.frame: 6 × 28\n",
       "\\begin{tabular}{r|lllllllllllllllllllll}\n",
       "  & Ks & Kn & a\\_db\\_genome\\_id & chr1 & start1 & stop1 & name1 & strand1 & type1 & db\\_feature\\_id1 & ⋯ & name2 & strand2 & type2 & db\\_feature\\_id2 & genome\\_order2 & percent\\_id2 & start2\\_B & stop2\\_B & eval & block\\_score\\\\\n",
       "  & <dbl> & <dbl> & <chr> & <chr> & <int> & <int> & <chr> & <int> & <chr> & <dbl> & ⋯ & <chr> & <int> & <chr> & <dbl> & <int> & <dbl> & <int> & <int> & <dbl> & <int>\\\\\n",
       "\\hline\n",
       "\t213649 & 0.0228 & 0.0055 & a68664\\_scf\\_99 & scf\\_99 & 134060 & 145555 & Soltu.Atl\\_v3.S008650.1 & -1 & CDS & 4445991408 & ⋯ & Soltu.Atl\\_v3.12\\_3G017450.1 & -1 & CDS & 4445314446 & 42925 & 98.94 & 43632234 & 43620781 & 1.0e-250 & 150\\\\\n",
       "\t213650 & 0.2351 & 0.1818 & a68664\\_scf\\_99 & scf\\_99 & 217885 & 221820 & Soltu.Atl\\_v3.S008680.1 & -1 & CDS & 4445991411 & ⋯ & Soltu.Atl\\_v3.12\\_3G017470.1 & -1 & CDS & 4445314449 & 42926 & 99.52 & 43748423 & 43743615 & 1.0e-250 & 197\\\\\n",
       "\t213651 & 0.0256 & 0.0044 & a68664\\_scf\\_99 & scf\\_99 & 233260 & 234328 & Soltu.Atl\\_v3.S008700.2 & -1 & CDS & 4445991420 & ⋯ & Soltu.Atl\\_v3.12\\_3G017500.1 & -1 & CDS & 4445314461 & 42930 & 98.90 & 43759249 & 43758108 & 2.6e-177 & 247\\\\\n",
       "\t213652 & 0.0712 & 0.0232 & a68664\\_scf\\_99 & scf\\_99 & 245300 & 253928 & Soltu.Atl\\_v3.S008710.1 &  1 & CDS & 4445991423 & ⋯ & Soltu.Atl\\_v3.12\\_3G017520.1 &  1 & CDS & 4445314467 & 42932 & 99.17 & 43792921 & 43797859 & 1.0e-250 & 297\\\\\n",
       "\t213653 & 0.0329 & 0.0063 & a68664\\_scf\\_99 & scf\\_99 & 264147 & 268248 & Soltu.Atl\\_v3.S008720.1 & -1 & CDS & 4445991441 & ⋯ & Soltu.Atl\\_v3.12\\_3G017530.1 & -1 & CDS & 4445314470 & 42933 & 98.17 & 43817756 & 43813658 & 1.0e-250 & 347\\\\\n",
       "\t213654 & 0.0861 & 0.0444 & a68664\\_scf\\_99 & scf\\_99 & 331915 & 334175 & Soltu.Atl\\_v3.S008730.1 &  1 & CDS & 4445991453 & ⋯ & Soltu.Atl\\_v3.12\\_3G017570.1 &  1 & CDS & 4445314473 & 42934 & 99.32 & 43883529 & 43885834 & 5.5e-215 & 394\\\\\n",
       "\\end{tabular}\n"
      ],
      "text/markdown": [
       "\n",
       "A data.frame: 6 × 28\n",
       "\n",
       "| <!--/--> | Ks &lt;dbl&gt; | Kn &lt;dbl&gt; | a_db_genome_id &lt;chr&gt; | chr1 &lt;chr&gt; | start1 &lt;int&gt; | stop1 &lt;int&gt; | name1 &lt;chr&gt; | strand1 &lt;int&gt; | type1 &lt;chr&gt; | db_feature_id1 &lt;dbl&gt; | ⋯ ⋯ | name2 &lt;chr&gt; | strand2 &lt;int&gt; | type2 &lt;chr&gt; | db_feature_id2 &lt;dbl&gt; | genome_order2 &lt;int&gt; | percent_id2 &lt;dbl&gt; | start2_B &lt;int&gt; | stop2_B &lt;int&gt; | eval &lt;dbl&gt; | block_score &lt;int&gt; |\n",
       "|---|---|---|---|---|---|---|---|---|---|---|---|---|---|---|---|---|---|---|---|---|---|\n",
       "| 213649 | 0.0228 | 0.0055 | a68664_scf_99 | scf_99 | 134060 | 145555 | Soltu.Atl_v3.S008650.1 | -1 | CDS | 4445991408 | ⋯ | Soltu.Atl_v3.12_3G017450.1 | -1 | CDS | 4445314446 | 42925 | 98.94 | 43632234 | 43620781 | 1.0e-250 | 150 |\n",
       "| 213650 | 0.2351 | 0.1818 | a68664_scf_99 | scf_99 | 217885 | 221820 | Soltu.Atl_v3.S008680.1 | -1 | CDS | 4445991411 | ⋯ | Soltu.Atl_v3.12_3G017470.1 | -1 | CDS | 4445314449 | 42926 | 99.52 | 43748423 | 43743615 | 1.0e-250 | 197 |\n",
       "| 213651 | 0.0256 | 0.0044 | a68664_scf_99 | scf_99 | 233260 | 234328 | Soltu.Atl_v3.S008700.2 | -1 | CDS | 4445991420 | ⋯ | Soltu.Atl_v3.12_3G017500.1 | -1 | CDS | 4445314461 | 42930 | 98.90 | 43759249 | 43758108 | 2.6e-177 | 247 |\n",
       "| 213652 | 0.0712 | 0.0232 | a68664_scf_99 | scf_99 | 245300 | 253928 | Soltu.Atl_v3.S008710.1 |  1 | CDS | 4445991423 | ⋯ | Soltu.Atl_v3.12_3G017520.1 |  1 | CDS | 4445314467 | 42932 | 99.17 | 43792921 | 43797859 | 1.0e-250 | 297 |\n",
       "| 213653 | 0.0329 | 0.0063 | a68664_scf_99 | scf_99 | 264147 | 268248 | Soltu.Atl_v3.S008720.1 | -1 | CDS | 4445991441 | ⋯ | Soltu.Atl_v3.12_3G017530.1 | -1 | CDS | 4445314470 | 42933 | 98.17 | 43817756 | 43813658 | 1.0e-250 | 347 |\n",
       "| 213654 | 0.0861 | 0.0444 | a68664_scf_99 | scf_99 | 331915 | 334175 | Soltu.Atl_v3.S008730.1 |  1 | CDS | 4445991453 | ⋯ | Soltu.Atl_v3.12_3G017570.1 |  1 | CDS | 4445314473 | 42934 | 99.32 | 43883529 | 43885834 | 5.5e-215 | 394 |\n",
       "\n"
      ],
      "text/plain": [
       "       Ks     Kn     a_db_genome_id chr1   start1 stop1  name1                 \n",
       "213649 0.0228 0.0055 a68664_scf_99  scf_99 134060 145555 Soltu.Atl_v3.S008650.1\n",
       "213650 0.2351 0.1818 a68664_scf_99  scf_99 217885 221820 Soltu.Atl_v3.S008680.1\n",
       "213651 0.0256 0.0044 a68664_scf_99  scf_99 233260 234328 Soltu.Atl_v3.S008700.2\n",
       "213652 0.0712 0.0232 a68664_scf_99  scf_99 245300 253928 Soltu.Atl_v3.S008710.1\n",
       "213653 0.0329 0.0063 a68664_scf_99  scf_99 264147 268248 Soltu.Atl_v3.S008720.1\n",
       "213654 0.0861 0.0444 a68664_scf_99  scf_99 331915 334175 Soltu.Atl_v3.S008730.1\n",
       "       strand1 type1 db_feature_id1 ⋯ name2                      strand2 type2\n",
       "213649 -1      CDS   4445991408     ⋯ Soltu.Atl_v3.12_3G017450.1 -1      CDS  \n",
       "213650 -1      CDS   4445991411     ⋯ Soltu.Atl_v3.12_3G017470.1 -1      CDS  \n",
       "213651 -1      CDS   4445991420     ⋯ Soltu.Atl_v3.12_3G017500.1 -1      CDS  \n",
       "213652  1      CDS   4445991423     ⋯ Soltu.Atl_v3.12_3G017520.1  1      CDS  \n",
       "213653 -1      CDS   4445991441     ⋯ Soltu.Atl_v3.12_3G017530.1 -1      CDS  \n",
       "213654  1      CDS   4445991453     ⋯ Soltu.Atl_v3.12_3G017570.1  1      CDS  \n",
       "       db_feature_id2 genome_order2 percent_id2 start2_B stop2_B  eval    \n",
       "213649 4445314446     42925         98.94       43632234 43620781 1.0e-250\n",
       "213650 4445314449     42926         99.52       43748423 43743615 1.0e-250\n",
       "213651 4445314461     42930         98.90       43759249 43758108 2.6e-177\n",
       "213652 4445314467     42932         99.17       43792921 43797859 1.0e-250\n",
       "213653 4445314470     42933         98.17       43817756 43813658 1.0e-250\n",
       "213654 4445314473     42934         99.32       43883529 43885834 5.5e-215\n",
       "       block_score\n",
       "213649 150        \n",
       "213650 197        \n",
       "213651 247        \n",
       "213652 297        \n",
       "213653 347        \n",
       "213654 394        "
      ]
     },
     "metadata": {},
     "output_type": "display_data"
    }
   ],
   "source": [
    "head(CoGeSynMap)\n",
    "tail(CoGeSynMap)"
   ]
  },
  {
   "cell_type": "code",
   "execution_count": 10,
   "id": "1ca02496-0a46-482e-b713-daa8bafdbcea",
   "metadata": {},
   "outputs": [
    {
     "data": {
      "text/html": [
       "213654"
      ],
      "text/latex": [
       "213654"
      ],
      "text/markdown": [
       "213654"
      ],
      "text/plain": [
       "[1] 213654"
      ]
     },
     "metadata": {},
     "output_type": "display_data"
    },
    {
     "data": {
      "text/html": [
       "213469"
      ],
      "text/latex": [
       "213469"
      ],
      "text/markdown": [
       "213469"
      ],
      "text/plain": [
       "[1] 213469"
      ]
     },
     "metadata": {},
     "output_type": "display_data"
    },
    {
     "data": {
      "text/html": [
       "370"
      ],
      "text/latex": [
       "370"
      ],
      "text/markdown": [
       "370"
      ],
      "text/plain": [
       "[1] 370"
      ]
     },
     "metadata": {},
     "output_type": "display_data"
    }
   ],
   "source": [
    "#CHECK FOR NA VALUES: \n",
    "#::::::::::::::::::::;\n",
    "CoGeSynMap %>% nrow()\n",
    "CoGeSynMap %>% na.omit() %>% nrow()\n",
    "sum(is.na(CoGeSynMap))"
   ]
  },
  {
   "cell_type": "code",
   "execution_count": 11,
   "id": "5fa57434-570b-4ee7-ba1d-497a4b16d187",
   "metadata": {},
   "outputs": [
    {
     "data": {
      "text/html": [
       "0"
      ],
      "text/latex": [
       "0"
      ],
      "text/markdown": [
       "0"
      ],
      "text/plain": [
       "[1] 0"
      ]
     },
     "metadata": {},
     "output_type": "display_data"
    }
   ],
   "source": [
    "## REMOVE NAs\n",
    "#::::::::::::\n",
    "CoGeSynMap <- CoGeSynMap %>% na.omit()\n",
    "sum(is.na(CoGeSynMap))\n"
   ]
  },
  {
   "cell_type": "code",
   "execution_count": 12,
   "id": "d0a03a17-f45a-4d53-921f-79bdfb36c756",
   "metadata": {},
   "outputs": [
    {
     "name": "stdout",
     "output_type": "stream",
     "text": [
      "[1] \"This is the number of allelic pairs in the dataframe\"\n"
     ]
    },
    {
     "data": {
      "text/html": [
       "213469"
      ],
      "text/latex": [
       "213469"
      ],
      "text/markdown": [
       "213469"
      ],
      "text/plain": [
       "[1] 213469"
      ]
     },
     "metadata": {},
     "output_type": "display_data"
    },
    {
     "name": "stdout",
     "output_type": "stream",
     "text": [
      "[1] \"This is the number of unique allelic pairs in the dataframe\"\n"
     ]
    },
    {
     "data": {
      "text/html": [
       "213341"
      ],
      "text/latex": [
       "213341"
      ],
      "text/markdown": [
       "213341"
      ],
      "text/plain": [
       "[1] 213341"
      ]
     },
     "metadata": {},
     "output_type": "display_data"
    },
    {
     "name": "stdout",
     "output_type": "stream",
     "text": [
      "[1] \"This is the number of rows with NA values\"\n"
     ]
    },
    {
     "data": {
      "text/html": [
       "0"
      ],
      "text/latex": [
       "0"
      ],
      "text/markdown": [
       "0"
      ],
      "text/plain": [
       "[1] 0"
      ]
     },
     "metadata": {},
     "output_type": "display_data"
    },
    {
     "data": {
      "text/html": [
       "<table class=\"dataframe\">\n",
       "<caption>A tibble: 6 × 2</caption>\n",
       "<thead>\n",
       "\t<tr><th scope=col>name2</th><th scope=col>name1</th></tr>\n",
       "\t<tr><th scope=col>&lt;chr&gt;</th><th scope=col>&lt;chr&gt;</th></tr>\n",
       "</thead>\n",
       "<tbody>\n",
       "\t<tr><td>Soltu.Atl_v3.01_0G019330.1</td><td>Soltu.Atl_v3.01_3G036260.1</td></tr>\n",
       "\t<tr><td>Soltu.Atl_v3.01_0G019330.1</td><td>Soltu.Atl_v3.01_3G036260.1</td></tr>\n",
       "\t<tr><td>Soltu.Atl_v3.01_0G019520.1</td><td>Soltu.Atl_v3.01_3G036200.1</td></tr>\n",
       "\t<tr><td>Soltu.Atl_v3.01_0G019520.1</td><td>Soltu.Atl_v3.01_3G036200.1</td></tr>\n",
       "\t<tr><td>Soltu.Atl_v3.01_0G019650.1</td><td>Soltu.Atl_v3.01_3G036100.1</td></tr>\n",
       "\t<tr><td>Soltu.Atl_v3.01_0G019650.1</td><td>Soltu.Atl_v3.01_3G036100.1</td></tr>\n",
       "</tbody>\n",
       "</table>\n"
      ],
      "text/latex": [
       "A tibble: 6 × 2\n",
       "\\begin{tabular}{ll}\n",
       " name2 & name1\\\\\n",
       " <chr> & <chr>\\\\\n",
       "\\hline\n",
       "\t Soltu.Atl\\_v3.01\\_0G019330.1 & Soltu.Atl\\_v3.01\\_3G036260.1\\\\\n",
       "\t Soltu.Atl\\_v3.01\\_0G019330.1 & Soltu.Atl\\_v3.01\\_3G036260.1\\\\\n",
       "\t Soltu.Atl\\_v3.01\\_0G019520.1 & Soltu.Atl\\_v3.01\\_3G036200.1\\\\\n",
       "\t Soltu.Atl\\_v3.01\\_0G019520.1 & Soltu.Atl\\_v3.01\\_3G036200.1\\\\\n",
       "\t Soltu.Atl\\_v3.01\\_0G019650.1 & Soltu.Atl\\_v3.01\\_3G036100.1\\\\\n",
       "\t Soltu.Atl\\_v3.01\\_0G019650.1 & Soltu.Atl\\_v3.01\\_3G036100.1\\\\\n",
       "\\end{tabular}\n"
      ],
      "text/markdown": [
       "\n",
       "A tibble: 6 × 2\n",
       "\n",
       "| name2 &lt;chr&gt; | name1 &lt;chr&gt; |\n",
       "|---|---|\n",
       "| Soltu.Atl_v3.01_0G019330.1 | Soltu.Atl_v3.01_3G036260.1 |\n",
       "| Soltu.Atl_v3.01_0G019330.1 | Soltu.Atl_v3.01_3G036260.1 |\n",
       "| Soltu.Atl_v3.01_0G019520.1 | Soltu.Atl_v3.01_3G036200.1 |\n",
       "| Soltu.Atl_v3.01_0G019520.1 | Soltu.Atl_v3.01_3G036200.1 |\n",
       "| Soltu.Atl_v3.01_0G019650.1 | Soltu.Atl_v3.01_3G036100.1 |\n",
       "| Soltu.Atl_v3.01_0G019650.1 | Soltu.Atl_v3.01_3G036100.1 |\n",
       "\n"
      ],
      "text/plain": [
       "  name2                      name1                     \n",
       "1 Soltu.Atl_v3.01_0G019330.1 Soltu.Atl_v3.01_3G036260.1\n",
       "2 Soltu.Atl_v3.01_0G019330.1 Soltu.Atl_v3.01_3G036260.1\n",
       "3 Soltu.Atl_v3.01_0G019520.1 Soltu.Atl_v3.01_3G036200.1\n",
       "4 Soltu.Atl_v3.01_0G019520.1 Soltu.Atl_v3.01_3G036200.1\n",
       "5 Soltu.Atl_v3.01_0G019650.1 Soltu.Atl_v3.01_3G036100.1\n",
       "6 Soltu.Atl_v3.01_0G019650.1 Soltu.Atl_v3.01_3G036100.1"
      ]
     },
     "metadata": {},
     "output_type": "display_data"
    },
    {
     "name": "stdout",
     "output_type": "stream",
     "text": [
      "[1] \"This is the number of duplicates\"\n"
     ]
    },
    {
     "data": {
      "text/html": [
       "256"
      ],
      "text/latex": [
       "256"
      ],
      "text/markdown": [
       "256"
      ],
      "text/plain": [
       "[1] 256"
      ]
     },
     "metadata": {},
     "output_type": "display_data"
    }
   ],
   "source": [
    "### Check for duplicates, multiple transcript names by selecting just the gene names. \n",
    "#######################################################################################\n",
    "\n",
    "GeneNamesTranscript <- CoGeSynMap %>% select(name2, name1) \n",
    "print('This is the number of allelic pairs in the dataframe')\n",
    "nrow(GeneNamesTranscript)\n",
    "\n",
    "print('This is the number of unique allelic pairs in the dataframe')\n",
    "GeneNamesTranscript %>% unique() %>% nrow()\n",
    "\n",
    "print('This is the number of rows with NA values')\n",
    "sum(is.na(GeneNamesTranscript))\n",
    "\n",
    "Duplicates<- GeneNamesTranscript %>% group_by(name1,name2) %>% filter(n() >1) %>% \n",
    "            ungroup %>% arrange(name2)\n",
    "head(Duplicates)\n",
    "print('This is the number of duplicates')\n",
    "nrow(Duplicates)"
   ]
  },
  {
   "cell_type": "code",
   "execution_count": 13,
   "id": "14086470-f4c0-4b64-bd79-2278e67af5df",
   "metadata": {},
   "outputs": [
    {
     "data": {
      "text/html": [
       "<table class=\"dataframe\">\n",
       "<caption>A data.frame: 6 × 28</caption>\n",
       "<thead>\n",
       "\t<tr><th></th><th scope=col>Ks</th><th scope=col>Kn</th><th scope=col>a_db_genome_id</th><th scope=col>chr1</th><th scope=col>start1</th><th scope=col>stop1</th><th scope=col>name1</th><th scope=col>strand1</th><th scope=col>type1</th><th scope=col>db_feature_id1</th><th scope=col>⋯</th><th scope=col>name2</th><th scope=col>strand2</th><th scope=col>type2</th><th scope=col>db_feature_id2</th><th scope=col>genome_order2</th><th scope=col>percent_id2</th><th scope=col>start2_B</th><th scope=col>stop2_B</th><th scope=col>eval</th><th scope=col>block_score</th></tr>\n",
       "\t<tr><th></th><th scope=col>&lt;dbl&gt;</th><th scope=col>&lt;dbl&gt;</th><th scope=col>&lt;chr&gt;</th><th scope=col>&lt;chr&gt;</th><th scope=col>&lt;int&gt;</th><th scope=col>&lt;int&gt;</th><th scope=col>&lt;chr&gt;</th><th scope=col>&lt;int&gt;</th><th scope=col>&lt;chr&gt;</th><th scope=col>&lt;dbl&gt;</th><th scope=col>⋯</th><th scope=col>&lt;chr&gt;</th><th scope=col>&lt;int&gt;</th><th scope=col>&lt;chr&gt;</th><th scope=col>&lt;dbl&gt;</th><th scope=col>&lt;int&gt;</th><th scope=col>&lt;dbl&gt;</th><th scope=col>&lt;int&gt;</th><th scope=col>&lt;int&gt;</th><th scope=col>&lt;dbl&gt;</th><th scope=col>&lt;int&gt;</th></tr>\n",
       "</thead>\n",
       "<tbody>\n",
       "\t<tr><th scope=row>1</th><td> 0.0488</td><td>0.0166</td><td>a68664_10_0</td><td>10_0</td><td>18586702</td><td>18592787</td><td>Soltu.Atl_v3.10_0G009090.1</td><td> 1</td><td>CDS</td><td>4445189406</td><td>⋯</td><td>Soltu.Atl_v3.10_0G018710.3</td><td>-1</td><td>CDS</td><td>4445194659</td><td>3324</td><td>98.15</td><td>28036632</td><td>28030441</td><td>7e-128</td><td> 297</td></tr>\n",
       "\t<tr><th scope=row>2</th><td> 0.0488</td><td>0.0166</td><td>a68664_10_0</td><td>10_0</td><td>18586702</td><td>18592787</td><td>Soltu.Atl_v3.10_0G009090.1</td><td> 1</td><td>CDS</td><td>4445189406</td><td>⋯</td><td>Soltu.Atl_v3.10_0G018710.3</td><td>-1</td><td>CDS</td><td>4445194659</td><td>3324</td><td>98.15</td><td>28036632</td><td>28030441</td><td>7e-128</td><td> 200</td></tr>\n",
       "\t<tr><th scope=row>3</th><td> 0.0000</td><td>0.0044</td><td>a68664_10_0</td><td>10_0</td><td>  584684</td><td>  587566</td><td>Soltu.Atl_v3.10_0G000490.3</td><td> 1</td><td>CDS</td><td>4445184837</td><td>⋯</td><td>Soltu.Atl_v3.10_1G000450.2</td><td>-1</td><td>CDS</td><td>4445196219</td><td>3843</td><td>99.66</td><td>  428651</td><td>  425796</td><td>1e-250</td><td>1650</td></tr>\n",
       "\t<tr><th scope=row>4</th><td> 0.0000</td><td>0.0044</td><td>a68664_10_0</td><td>10_0</td><td>  584684</td><td>  587566</td><td>Soltu.Atl_v3.10_0G000490.3</td><td> 1</td><td>CDS</td><td>4445184837</td><td>⋯</td><td>Soltu.Atl_v3.10_1G000450.2</td><td>-1</td><td>CDS</td><td>4445196219</td><td>3843</td><td>99.66</td><td>  428651</td><td>  425796</td><td>1e-250</td><td> 250</td></tr>\n",
       "\t<tr><th scope=row>5</th><td> 0.0726</td><td>0.0160</td><td>a68664_10_0</td><td>10_0</td><td>  605589</td><td>  607958</td><td>Soltu.Atl_v3.10_0G000510.1</td><td>-1</td><td>CDS</td><td>4445184852</td><td>⋯</td><td>Soltu.Atl_v3.10_2G000380.1</td><td> 1</td><td>CDS</td><td>4445203008</td><td>6095</td><td>98.22</td><td>  488803</td><td>  491104</td><td>1e-250</td><td>1650</td></tr>\n",
       "\t<tr><th scope=row>6</th><td>38.5025</td><td>1.1832</td><td>a68664_10_0</td><td>10_0</td><td>26988274</td><td>26993392</td><td>Soltu.Atl_v3.10_0G017870.1</td><td>-1</td><td>CDS</td><td>4445194164</td><td>⋯</td><td>Soltu.Atl_v3.10_2G013880.1</td><td>-1</td><td>CDS</td><td>4445211000</td><td>8747</td><td>97.03</td><td>17098214</td><td>17093137</td><td>1e-250</td><td>1444</td></tr>\n",
       "</tbody>\n",
       "</table>\n"
      ],
      "text/latex": [
       "A data.frame: 6 × 28\n",
       "\\begin{tabular}{r|lllllllllllllllllllll}\n",
       "  & Ks & Kn & a\\_db\\_genome\\_id & chr1 & start1 & stop1 & name1 & strand1 & type1 & db\\_feature\\_id1 & ⋯ & name2 & strand2 & type2 & db\\_feature\\_id2 & genome\\_order2 & percent\\_id2 & start2\\_B & stop2\\_B & eval & block\\_score\\\\\n",
       "  & <dbl> & <dbl> & <chr> & <chr> & <int> & <int> & <chr> & <int> & <chr> & <dbl> & ⋯ & <chr> & <int> & <chr> & <dbl> & <int> & <dbl> & <int> & <int> & <dbl> & <int>\\\\\n",
       "\\hline\n",
       "\t1 &  0.0488 & 0.0166 & a68664\\_10\\_0 & 10\\_0 & 18586702 & 18592787 & Soltu.Atl\\_v3.10\\_0G009090.1 &  1 & CDS & 4445189406 & ⋯ & Soltu.Atl\\_v3.10\\_0G018710.3 & -1 & CDS & 4445194659 & 3324 & 98.15 & 28036632 & 28030441 & 7e-128 &  297\\\\\n",
       "\t2 &  0.0488 & 0.0166 & a68664\\_10\\_0 & 10\\_0 & 18586702 & 18592787 & Soltu.Atl\\_v3.10\\_0G009090.1 &  1 & CDS & 4445189406 & ⋯ & Soltu.Atl\\_v3.10\\_0G018710.3 & -1 & CDS & 4445194659 & 3324 & 98.15 & 28036632 & 28030441 & 7e-128 &  200\\\\\n",
       "\t3 &  0.0000 & 0.0044 & a68664\\_10\\_0 & 10\\_0 &   584684 &   587566 & Soltu.Atl\\_v3.10\\_0G000490.3 &  1 & CDS & 4445184837 & ⋯ & Soltu.Atl\\_v3.10\\_1G000450.2 & -1 & CDS & 4445196219 & 3843 & 99.66 &   428651 &   425796 & 1e-250 & 1650\\\\\n",
       "\t4 &  0.0000 & 0.0044 & a68664\\_10\\_0 & 10\\_0 &   584684 &   587566 & Soltu.Atl\\_v3.10\\_0G000490.3 &  1 & CDS & 4445184837 & ⋯ & Soltu.Atl\\_v3.10\\_1G000450.2 & -1 & CDS & 4445196219 & 3843 & 99.66 &   428651 &   425796 & 1e-250 &  250\\\\\n",
       "\t5 &  0.0726 & 0.0160 & a68664\\_10\\_0 & 10\\_0 &   605589 &   607958 & Soltu.Atl\\_v3.10\\_0G000510.1 & -1 & CDS & 4445184852 & ⋯ & Soltu.Atl\\_v3.10\\_2G000380.1 &  1 & CDS & 4445203008 & 6095 & 98.22 &   488803 &   491104 & 1e-250 & 1650\\\\\n",
       "\t6 & 38.5025 & 1.1832 & a68664\\_10\\_0 & 10\\_0 & 26988274 & 26993392 & Soltu.Atl\\_v3.10\\_0G017870.1 & -1 & CDS & 4445194164 & ⋯ & Soltu.Atl\\_v3.10\\_2G013880.1 & -1 & CDS & 4445211000 & 8747 & 97.03 & 17098214 & 17093137 & 1e-250 & 1444\\\\\n",
       "\\end{tabular}\n"
      ],
      "text/markdown": [
       "\n",
       "A data.frame: 6 × 28\n",
       "\n",
       "| <!--/--> | Ks &lt;dbl&gt; | Kn &lt;dbl&gt; | a_db_genome_id &lt;chr&gt; | chr1 &lt;chr&gt; | start1 &lt;int&gt; | stop1 &lt;int&gt; | name1 &lt;chr&gt; | strand1 &lt;int&gt; | type1 &lt;chr&gt; | db_feature_id1 &lt;dbl&gt; | ⋯ ⋯ | name2 &lt;chr&gt; | strand2 &lt;int&gt; | type2 &lt;chr&gt; | db_feature_id2 &lt;dbl&gt; | genome_order2 &lt;int&gt; | percent_id2 &lt;dbl&gt; | start2_B &lt;int&gt; | stop2_B &lt;int&gt; | eval &lt;dbl&gt; | block_score &lt;int&gt; |\n",
       "|---|---|---|---|---|---|---|---|---|---|---|---|---|---|---|---|---|---|---|---|---|---|\n",
       "| 1 |  0.0488 | 0.0166 | a68664_10_0 | 10_0 | 18586702 | 18592787 | Soltu.Atl_v3.10_0G009090.1 |  1 | CDS | 4445189406 | ⋯ | Soltu.Atl_v3.10_0G018710.3 | -1 | CDS | 4445194659 | 3324 | 98.15 | 28036632 | 28030441 | 7e-128 |  297 |\n",
       "| 2 |  0.0488 | 0.0166 | a68664_10_0 | 10_0 | 18586702 | 18592787 | Soltu.Atl_v3.10_0G009090.1 |  1 | CDS | 4445189406 | ⋯ | Soltu.Atl_v3.10_0G018710.3 | -1 | CDS | 4445194659 | 3324 | 98.15 | 28036632 | 28030441 | 7e-128 |  200 |\n",
       "| 3 |  0.0000 | 0.0044 | a68664_10_0 | 10_0 |   584684 |   587566 | Soltu.Atl_v3.10_0G000490.3 |  1 | CDS | 4445184837 | ⋯ | Soltu.Atl_v3.10_1G000450.2 | -1 | CDS | 4445196219 | 3843 | 99.66 |   428651 |   425796 | 1e-250 | 1650 |\n",
       "| 4 |  0.0000 | 0.0044 | a68664_10_0 | 10_0 |   584684 |   587566 | Soltu.Atl_v3.10_0G000490.3 |  1 | CDS | 4445184837 | ⋯ | Soltu.Atl_v3.10_1G000450.2 | -1 | CDS | 4445196219 | 3843 | 99.66 |   428651 |   425796 | 1e-250 |  250 |\n",
       "| 5 |  0.0726 | 0.0160 | a68664_10_0 | 10_0 |   605589 |   607958 | Soltu.Atl_v3.10_0G000510.1 | -1 | CDS | 4445184852 | ⋯ | Soltu.Atl_v3.10_2G000380.1 |  1 | CDS | 4445203008 | 6095 | 98.22 |   488803 |   491104 | 1e-250 | 1650 |\n",
       "| 6 | 38.5025 | 1.1832 | a68664_10_0 | 10_0 | 26988274 | 26993392 | Soltu.Atl_v3.10_0G017870.1 | -1 | CDS | 4445194164 | ⋯ | Soltu.Atl_v3.10_2G013880.1 | -1 | CDS | 4445211000 | 8747 | 97.03 | 17098214 | 17093137 | 1e-250 | 1444 |\n",
       "\n"
      ],
      "text/plain": [
       "  Ks      Kn     a_db_genome_id chr1 start1   stop1   \n",
       "1  0.0488 0.0166 a68664_10_0    10_0 18586702 18592787\n",
       "2  0.0488 0.0166 a68664_10_0    10_0 18586702 18592787\n",
       "3  0.0000 0.0044 a68664_10_0    10_0   584684   587566\n",
       "4  0.0000 0.0044 a68664_10_0    10_0   584684   587566\n",
       "5  0.0726 0.0160 a68664_10_0    10_0   605589   607958\n",
       "6 38.5025 1.1832 a68664_10_0    10_0 26988274 26993392\n",
       "  name1                      strand1 type1 db_feature_id1 ⋯\n",
       "1 Soltu.Atl_v3.10_0G009090.1  1      CDS   4445189406     ⋯\n",
       "2 Soltu.Atl_v3.10_0G009090.1  1      CDS   4445189406     ⋯\n",
       "3 Soltu.Atl_v3.10_0G000490.3  1      CDS   4445184837     ⋯\n",
       "4 Soltu.Atl_v3.10_0G000490.3  1      CDS   4445184837     ⋯\n",
       "5 Soltu.Atl_v3.10_0G000510.1 -1      CDS   4445184852     ⋯\n",
       "6 Soltu.Atl_v3.10_0G017870.1 -1      CDS   4445194164     ⋯\n",
       "  name2                      strand2 type2 db_feature_id2 genome_order2\n",
       "1 Soltu.Atl_v3.10_0G018710.3 -1      CDS   4445194659     3324         \n",
       "2 Soltu.Atl_v3.10_0G018710.3 -1      CDS   4445194659     3324         \n",
       "3 Soltu.Atl_v3.10_1G000450.2 -1      CDS   4445196219     3843         \n",
       "4 Soltu.Atl_v3.10_1G000450.2 -1      CDS   4445196219     3843         \n",
       "5 Soltu.Atl_v3.10_2G000380.1  1      CDS   4445203008     6095         \n",
       "6 Soltu.Atl_v3.10_2G013880.1 -1      CDS   4445211000     8747         \n",
       "  percent_id2 start2_B stop2_B  eval   block_score\n",
       "1 98.15       28036632 28030441 7e-128  297       \n",
       "2 98.15       28036632 28030441 7e-128  200       \n",
       "3 99.66         428651   425796 1e-250 1650       \n",
       "4 99.66         428651   425796 1e-250  250       \n",
       "5 98.22         488803   491104 1e-250 1650       \n",
       "6 97.03       17098214 17093137 1e-250 1444       "
      ]
     },
     "metadata": {},
     "output_type": "display_data"
    }
   ],
   "source": [
    "CoGeSynMap %>% filter(name2 %in% Duplicates$name2) %>% head()"
   ]
  },
  {
   "cell_type": "markdown",
   "id": "ca9d72a3-dde4-4f2f-a228-6fd529f7ff90",
   "metadata": {},
   "source": [
    "**NOTE:** These duplicates are caused by different block_score values in otherwise identical rows\n",
    "\n",
    "I found this information about block_scores here:\n",
    "https://data.usgs.gov/datacatalog/metadata/USGS.61253eefd34e40dd9c03f2f5.xml\n",
    "\n",
    "\"Assigned by SynMap, with larger increments given as more similar gene pairs are added to the synteny block. This column is useful for arranging the gene pairs in synteny blocks in the order of appearance in the genome, by sorting ascending or descending.\"\n",
    "\n",
    "This seems for just assigning synthenic order, but does not influence Kn or Ks data. "
   ]
  },
  {
   "cell_type": "markdown",
   "id": "549fb8ec-77c4-415e-acdd-4299bb746389",
   "metadata": {},
   "source": [
    "#### Remove block_score value column to remove those duplicates"
   ]
  },
  {
   "cell_type": "code",
   "execution_count": 14,
   "id": "2011423e-cb53-4b4d-9e3a-e238ad872826",
   "metadata": {},
   "outputs": [
    {
     "data": {
      "text/html": [
       "213469"
      ],
      "text/latex": [
       "213469"
      ],
      "text/markdown": [
       "213469"
      ],
      "text/plain": [
       "[1] 213469"
      ]
     },
     "metadata": {},
     "output_type": "display_data"
    },
    {
     "data": {
      "text/html": [
       "213341"
      ],
      "text/latex": [
       "213341"
      ],
      "text/markdown": [
       "213341"
      ],
      "text/plain": [
       "[1] 213341"
      ]
     },
     "metadata": {},
     "output_type": "display_data"
    }
   ],
   "source": [
    "nrow(CoGeSynMap)\n",
    "CoGeSynMap %>% select(-block_score) %>% unique() %>% nrow()\n"
   ]
  },
  {
   "cell_type": "code",
   "execution_count": 15,
   "id": "bec7ca73-e13e-4dfc-99f1-61c631a88a26",
   "metadata": {},
   "outputs": [],
   "source": [
    "CoGeSynMap<- CoGeSynMap %>% select(-block_score) %>% unique() "
   ]
  },
  {
   "cell_type": "markdown",
   "id": "c02c37dd-f53a-49e6-908f-4f59c54de8d0",
   "metadata": {},
   "source": [
    "## Select allelic pairs expressed in our experiments"
   ]
  },
  {
   "cell_type": "code",
   "execution_count": 16,
   "id": "a645f038-fad2-482e-91ec-5e83ef4b200c",
   "metadata": {},
   "outputs": [],
   "source": [
    "### Import our allelic group list\n",
    "#::::::::::::::::::::::::::::::::::\n",
    "SynPairs<- import(file = '../ATL_ExpressedAllelicPairs/Results/ExpressedAllelicPairs.csv',\n",
    "                 sep =',', header = TRUE, fill = TRUE )"
   ]
  },
  {
   "cell_type": "code",
   "execution_count": 17,
   "id": "45fc5a41-100d-4460-b72f-8f6390b3ce3e",
   "metadata": {},
   "outputs": [
    {
     "data": {
      "text/html": [
       "<table class=\"dataframe\">\n",
       "<caption>A data.frame: 2 × 4</caption>\n",
       "<thead>\n",
       "\t<tr><th></th><th scope=col>Syntelog</th><th scope=col>Alleles</th><th scope=col>Allele1</th><th scope=col>Allele2</th></tr>\n",
       "\t<tr><th></th><th scope=col>&lt;chr&gt;</th><th scope=col>&lt;int&gt;</th><th scope=col>&lt;chr&gt;</th><th scope=col>&lt;chr&gt;</th></tr>\n",
       "</thead>\n",
       "<tbody>\n",
       "\t<tr><th scope=row>1</th><td>Synt_1</td><td>4</td><td>Soltu.Atl_v3.01_1G000020.2</td><td>Soltu.Atl_v3.01_2G000020.1</td></tr>\n",
       "\t<tr><th scope=row>2</th><td>Synt_1</td><td>4</td><td>Soltu.Atl_v3.01_1G000020.2</td><td>Soltu.Atl_v3.01_3G000040.1</td></tr>\n",
       "</tbody>\n",
       "</table>\n"
      ],
      "text/latex": [
       "A data.frame: 2 × 4\n",
       "\\begin{tabular}{r|llll}\n",
       "  & Syntelog & Alleles & Allele1 & Allele2\\\\\n",
       "  & <chr> & <int> & <chr> & <chr>\\\\\n",
       "\\hline\n",
       "\t1 & Synt\\_1 & 4 & Soltu.Atl\\_v3.01\\_1G000020.2 & Soltu.Atl\\_v3.01\\_2G000020.1\\\\\n",
       "\t2 & Synt\\_1 & 4 & Soltu.Atl\\_v3.01\\_1G000020.2 & Soltu.Atl\\_v3.01\\_3G000040.1\\\\\n",
       "\\end{tabular}\n"
      ],
      "text/markdown": [
       "\n",
       "A data.frame: 2 × 4\n",
       "\n",
       "| <!--/--> | Syntelog &lt;chr&gt; | Alleles &lt;int&gt; | Allele1 &lt;chr&gt; | Allele2 &lt;chr&gt; |\n",
       "|---|---|---|---|---|\n",
       "| 1 | Synt_1 | 4 | Soltu.Atl_v3.01_1G000020.2 | Soltu.Atl_v3.01_2G000020.1 |\n",
       "| 2 | Synt_1 | 4 | Soltu.Atl_v3.01_1G000020.2 | Soltu.Atl_v3.01_3G000040.1 |\n",
       "\n"
      ],
      "text/plain": [
       "  Syntelog Alleles Allele1                    Allele2                   \n",
       "1 Synt_1   4       Soltu.Atl_v3.01_1G000020.2 Soltu.Atl_v3.01_2G000020.1\n",
       "2 Synt_1   4       Soltu.Atl_v3.01_1G000020.2 Soltu.Atl_v3.01_3G000040.1"
      ]
     },
     "metadata": {},
     "output_type": "display_data"
    }
   ],
   "source": [
    "SynPairs[1:2,]"
   ]
  },
  {
   "cell_type": "code",
   "execution_count": 18,
   "id": "168a98ed-f029-4b6f-8218-e27392e63772",
   "metadata": {},
   "outputs": [
    {
     "data": {
      "text/html": [
       "70044"
      ],
      "text/latex": [
       "70044"
      ],
      "text/markdown": [
       "70044"
      ],
      "text/plain": [
       "[1] 70044"
      ]
     },
     "metadata": {},
     "output_type": "display_data"
    }
   ],
   "source": [
    "nrow(SynPairs)"
   ]
  },
  {
   "cell_type": "code",
   "execution_count": 19,
   "id": "ebdf25c1-8856-41d3-8dbd-1a784d949f7d",
   "metadata": {},
   "outputs": [
    {
     "data": {
      "text/html": [
       "<table class=\"dataframe\">\n",
       "<caption>A data.frame: 2 × 27</caption>\n",
       "<thead>\n",
       "\t<tr><th></th><th scope=col>Ks</th><th scope=col>Kn</th><th scope=col>a_db_genome_id</th><th scope=col>chr1</th><th scope=col>start1</th><th scope=col>stop1</th><th scope=col>name1</th><th scope=col>strand1</th><th scope=col>type1</th><th scope=col>db_feature_id1</th><th scope=col>⋯</th><th scope=col>stop2</th><th scope=col>name2</th><th scope=col>strand2</th><th scope=col>type2</th><th scope=col>db_feature_id2</th><th scope=col>genome_order2</th><th scope=col>percent_id2</th><th scope=col>start2_B</th><th scope=col>stop2_B</th><th scope=col>eval</th></tr>\n",
       "\t<tr><th></th><th scope=col>&lt;dbl&gt;</th><th scope=col>&lt;dbl&gt;</th><th scope=col>&lt;chr&gt;</th><th scope=col>&lt;chr&gt;</th><th scope=col>&lt;int&gt;</th><th scope=col>&lt;int&gt;</th><th scope=col>&lt;chr&gt;</th><th scope=col>&lt;int&gt;</th><th scope=col>&lt;chr&gt;</th><th scope=col>&lt;dbl&gt;</th><th scope=col>⋯</th><th scope=col>&lt;int&gt;</th><th scope=col>&lt;chr&gt;</th><th scope=col>&lt;int&gt;</th><th scope=col>&lt;chr&gt;</th><th scope=col>&lt;dbl&gt;</th><th scope=col>&lt;int&gt;</th><th scope=col>&lt;dbl&gt;</th><th scope=col>&lt;int&gt;</th><th scope=col>&lt;int&gt;</th><th scope=col>&lt;dbl&gt;</th></tr>\n",
       "</thead>\n",
       "<tbody>\n",
       "\t<tr><th scope=row>1</th><td>0.0956</td><td>0.0429</td><td>a68664_10_0</td><td>10_0</td><td>24804675</td><td>24807840</td><td>Soltu.Atl_v3.10_0G015540.1</td><td>-1</td><td>CDS</td><td>4445192778</td><td>⋯</td><td>28169777</td><td>Soltu.Atl_v3.10_0G018890.2</td><td>-1</td><td>CDS</td><td>4445194791</td><td>3368</td><td>97.45</td><td>28169777</td><td>28166815</td><td>1e-250</td></tr>\n",
       "\t<tr><th scope=row>2</th><td>0.0276</td><td>0.0033</td><td>a68664_10_0</td><td>10_0</td><td>24813593</td><td>24819428</td><td>Soltu.Atl_v3.10_0G015550.1</td><td>-1</td><td>CDS</td><td>4445192781</td><td>⋯</td><td>28180296</td><td>Soltu.Atl_v3.10_0G018900.1</td><td>-1</td><td>CDS</td><td>4445194815</td><td>3376</td><td>99.05</td><td>28180296</td><td>28175356</td><td>1e-250</td></tr>\n",
       "</tbody>\n",
       "</table>\n"
      ],
      "text/latex": [
       "A data.frame: 2 × 27\n",
       "\\begin{tabular}{r|lllllllllllllllllllll}\n",
       "  & Ks & Kn & a\\_db\\_genome\\_id & chr1 & start1 & stop1 & name1 & strand1 & type1 & db\\_feature\\_id1 & ⋯ & stop2 & name2 & strand2 & type2 & db\\_feature\\_id2 & genome\\_order2 & percent\\_id2 & start2\\_B & stop2\\_B & eval\\\\\n",
       "  & <dbl> & <dbl> & <chr> & <chr> & <int> & <int> & <chr> & <int> & <chr> & <dbl> & ⋯ & <int> & <chr> & <int> & <chr> & <dbl> & <int> & <dbl> & <int> & <int> & <dbl>\\\\\n",
       "\\hline\n",
       "\t1 & 0.0956 & 0.0429 & a68664\\_10\\_0 & 10\\_0 & 24804675 & 24807840 & Soltu.Atl\\_v3.10\\_0G015540.1 & -1 & CDS & 4445192778 & ⋯ & 28169777 & Soltu.Atl\\_v3.10\\_0G018890.2 & -1 & CDS & 4445194791 & 3368 & 97.45 & 28169777 & 28166815 & 1e-250\\\\\n",
       "\t2 & 0.0276 & 0.0033 & a68664\\_10\\_0 & 10\\_0 & 24813593 & 24819428 & Soltu.Atl\\_v3.10\\_0G015550.1 & -1 & CDS & 4445192781 & ⋯ & 28180296 & Soltu.Atl\\_v3.10\\_0G018900.1 & -1 & CDS & 4445194815 & 3376 & 99.05 & 28180296 & 28175356 & 1e-250\\\\\n",
       "\\end{tabular}\n"
      ],
      "text/markdown": [
       "\n",
       "A data.frame: 2 × 27\n",
       "\n",
       "| <!--/--> | Ks &lt;dbl&gt; | Kn &lt;dbl&gt; | a_db_genome_id &lt;chr&gt; | chr1 &lt;chr&gt; | start1 &lt;int&gt; | stop1 &lt;int&gt; | name1 &lt;chr&gt; | strand1 &lt;int&gt; | type1 &lt;chr&gt; | db_feature_id1 &lt;dbl&gt; | ⋯ ⋯ | stop2 &lt;int&gt; | name2 &lt;chr&gt; | strand2 &lt;int&gt; | type2 &lt;chr&gt; | db_feature_id2 &lt;dbl&gt; | genome_order2 &lt;int&gt; | percent_id2 &lt;dbl&gt; | start2_B &lt;int&gt; | stop2_B &lt;int&gt; | eval &lt;dbl&gt; |\n",
       "|---|---|---|---|---|---|---|---|---|---|---|---|---|---|---|---|---|---|---|---|---|---|\n",
       "| 1 | 0.0956 | 0.0429 | a68664_10_0 | 10_0 | 24804675 | 24807840 | Soltu.Atl_v3.10_0G015540.1 | -1 | CDS | 4445192778 | ⋯ | 28169777 | Soltu.Atl_v3.10_0G018890.2 | -1 | CDS | 4445194791 | 3368 | 97.45 | 28169777 | 28166815 | 1e-250 |\n",
       "| 2 | 0.0276 | 0.0033 | a68664_10_0 | 10_0 | 24813593 | 24819428 | Soltu.Atl_v3.10_0G015550.1 | -1 | CDS | 4445192781 | ⋯ | 28180296 | Soltu.Atl_v3.10_0G018900.1 | -1 | CDS | 4445194815 | 3376 | 99.05 | 28180296 | 28175356 | 1e-250 |\n",
       "\n"
      ],
      "text/plain": [
       "  Ks     Kn     a_db_genome_id chr1 start1   stop1   \n",
       "1 0.0956 0.0429 a68664_10_0    10_0 24804675 24807840\n",
       "2 0.0276 0.0033 a68664_10_0    10_0 24813593 24819428\n",
       "  name1                      strand1 type1 db_feature_id1 ⋯ stop2   \n",
       "1 Soltu.Atl_v3.10_0G015540.1 -1      CDS   4445192778     ⋯ 28169777\n",
       "2 Soltu.Atl_v3.10_0G015550.1 -1      CDS   4445192781     ⋯ 28180296\n",
       "  name2                      strand2 type2 db_feature_id2 genome_order2\n",
       "1 Soltu.Atl_v3.10_0G018890.2 -1      CDS   4445194791     3368         \n",
       "2 Soltu.Atl_v3.10_0G018900.1 -1      CDS   4445194815     3376         \n",
       "  percent_id2 start2_B stop2_B  eval  \n",
       "1 97.45       28169777 28166815 1e-250\n",
       "2 99.05       28180296 28175356 1e-250"
      ]
     },
     "metadata": {},
     "output_type": "display_data"
    }
   ],
   "source": [
    "CoGeSynMap[1:2,]"
   ]
  },
  {
   "cell_type": "markdown",
   "id": "c34c3473-a262-494c-9542-0e0faec44eea",
   "metadata": {},
   "source": []
  },
  {
   "cell_type": "code",
   "execution_count": null,
   "id": "b9628b58-81b8-43b0-9e8a-a679c4f9b547",
   "metadata": {},
   "outputs": [],
   "source": []
  },
  {
   "cell_type": "markdown",
   "id": "454ee24c-b7dd-489f-a1e5-10d5180a10a6",
   "metadata": {},
   "source": [
    "## Select allelic pairs identified in our synteny analyses"
   ]
  },
  {
   "cell_type": "code",
   "execution_count": 20,
   "id": "ecde858d-f77c-419f-b3f8-c7d1d2ff621b",
   "metadata": {},
   "outputs": [
    {
     "data": {
      "text/html": [
       "70044"
      ],
      "text/latex": [
       "70044"
      ],
      "text/markdown": [
       "70044"
      ],
      "text/plain": [
       "[1] 70044"
      ]
     },
     "metadata": {},
     "output_type": "display_data"
    },
    {
     "data": {
      "text/html": [
       "213341"
      ],
      "text/latex": [
       "213341"
      ],
      "text/markdown": [
       "213341"
      ],
      "text/plain": [
       "[1] 213341"
      ]
     },
     "metadata": {},
     "output_type": "display_data"
    }
   ],
   "source": [
    "nrow(SynPairs)\n",
    "nrow(CoGeSynMap)"
   ]
  },
  {
   "cell_type": "code",
   "execution_count": 21,
   "id": "de09f4aa-881d-48f0-8e5d-fb5e64a67ac1",
   "metadata": {},
   "outputs": [
    {
     "data": {
      "text/html": [
       "41341"
      ],
      "text/latex": [
       "41341"
      ],
      "text/markdown": [
       "41341"
      ],
      "text/plain": [
       "[1] 41341"
      ]
     },
     "metadata": {},
     "output_type": "display_data"
    }
   ],
   "source": [
    "CoGeSynMapExprA <- SynPairs %>% left_join(CoGeSynMap %>% select(Ks,Kn, name1, name2, percent_id1), by = c('Allele1'='name1', 'Allele2'='name2')) %>%\n",
    "                    filter(!is.na(Ks))\n",
    "\n",
    "nrow(CoGeSynMapExprA)"
   ]
  },
  {
   "cell_type": "code",
   "execution_count": 22,
   "id": "67e9e716-ff9e-43f9-82ee-d7d182c375c0",
   "metadata": {},
   "outputs": [
    {
     "data": {
      "text/html": [
       "<table class=\"dataframe\">\n",
       "<caption>A grouped_df: 0 × 7</caption>\n",
       "<thead>\n",
       "\t<tr><th scope=col>Syntelog</th><th scope=col>Alleles</th><th scope=col>Allele1</th><th scope=col>Allele2</th><th scope=col>Ks</th><th scope=col>Kn</th><th scope=col>percent_id1</th></tr>\n",
       "\t<tr><th scope=col>&lt;chr&gt;</th><th scope=col>&lt;int&gt;</th><th scope=col>&lt;chr&gt;</th><th scope=col>&lt;chr&gt;</th><th scope=col>&lt;dbl&gt;</th><th scope=col>&lt;dbl&gt;</th><th scope=col>&lt;dbl&gt;</th></tr>\n",
       "</thead>\n",
       "<tbody>\n",
       "</tbody>\n",
       "</table>\n"
      ],
      "text/latex": [
       "A grouped\\_df: 0 × 7\n",
       "\\begin{tabular}{lllllll}\n",
       " Syntelog & Alleles & Allele1 & Allele2 & Ks & Kn & percent\\_id1\\\\\n",
       " <chr> & <int> & <chr> & <chr> & <dbl> & <dbl> & <dbl>\\\\\n",
       "\\hline\n",
       "\\end{tabular}\n"
      ],
      "text/markdown": [
       "\n",
       "A grouped_df: 0 × 7\n",
       "\n",
       "| Syntelog &lt;chr&gt; | Alleles &lt;int&gt; | Allele1 &lt;chr&gt; | Allele2 &lt;chr&gt; | Ks &lt;dbl&gt; | Kn &lt;dbl&gt; | percent_id1 &lt;dbl&gt; |\n",
       "|---|---|---|---|---|---|---|\n",
       "\n"
      ],
      "text/plain": [
       "     Syntelog Alleles Allele1 Allele2 Ks Kn percent_id1"
      ]
     },
     "metadata": {},
     "output_type": "display_data"
    }
   ],
   "source": [
    "CoGeSynMapExprA %>% group_by(Allele1, Allele2) %>% filter(n() == 2)"
   ]
  },
  {
   "cell_type": "code",
   "execution_count": 23,
   "id": "2d18609d-f1a6-4c31-94bf-826b17896791",
   "metadata": {},
   "outputs": [
    {
     "data": {
      "text/html": [
       "41242"
      ],
      "text/latex": [
       "41242"
      ],
      "text/markdown": [
       "41242"
      ],
      "text/plain": [
       "[1] 41242"
      ]
     },
     "metadata": {},
     "output_type": "display_data"
    }
   ],
   "source": [
    "CoGeSynMapExprB <- SynPairs %>% left_join(CoGeSynMap %>% select(Ks,Kn, name1, name2, percent_id1), by = c('Allele1'='name2', 'Allele2'='name1')) %>%\n",
    "                filter(!is.na(Ks))\n",
    "\n",
    "nrow(CoGeSynMapExprB)"
   ]
  },
  {
   "cell_type": "code",
   "execution_count": 24,
   "id": "359fa3d5-57e3-4b3b-bdb3-cd5484d54ab4",
   "metadata": {},
   "outputs": [
    {
     "data": {
      "text/html": [
       "<table class=\"dataframe\">\n",
       "<caption>A data.frame: 6 × 7</caption>\n",
       "<thead>\n",
       "\t<tr><th></th><th scope=col>Syntelog</th><th scope=col>Alleles</th><th scope=col>Allele1</th><th scope=col>Allele2</th><th scope=col>Ks</th><th scope=col>Kn</th><th scope=col>percent_id1</th></tr>\n",
       "\t<tr><th></th><th scope=col>&lt;chr&gt;</th><th scope=col>&lt;int&gt;</th><th scope=col>&lt;chr&gt;</th><th scope=col>&lt;chr&gt;</th><th scope=col>&lt;dbl&gt;</th><th scope=col>&lt;dbl&gt;</th><th scope=col>&lt;dbl&gt;</th></tr>\n",
       "</thead>\n",
       "<tbody>\n",
       "\t<tr><th scope=row>1</th><td>Synt_10   </td><td>2</td><td>Soltu.Atl_v3.01_2G000110.1</td><td>Soltu.Atl_v3.01_3G000170.1</td><td> 0.0438</td><td>0.0094</td><td>98.25</td></tr>\n",
       "\t<tr><th scope=row>2</th><td>Synt_100  </td><td>3</td><td>Soltu.Atl_v3.01_2G001750.2</td><td>Soltu.Atl_v3.01_3G001570.1</td><td>86.6671</td><td>0.4814</td><td>98.11</td></tr>\n",
       "\t<tr><th scope=row>3</th><td>Synt_100  </td><td>3</td><td>Soltu.Atl_v3.01_2G001750.2</td><td>Soltu.Atl_v3.01_4G001820.1</td><td> 0.0233</td><td>0.0052</td><td>98.80</td></tr>\n",
       "\t<tr><th scope=row>4</th><td>Synt_100  </td><td>3</td><td>Soltu.Atl_v3.01_3G001570.1</td><td>Soltu.Atl_v3.01_4G001820.1</td><td>85.6832</td><td>0.4754</td><td>98.62</td></tr>\n",
       "\t<tr><th scope=row>5</th><td>Synt_10004</td><td>2</td><td>Soltu.Atl_v3.04_0G000390.1</td><td>Soltu.Atl_v3.04_3G007510.1</td><td> 0.0339</td><td>0.0031</td><td>99.23</td></tr>\n",
       "\t<tr><th scope=row>6</th><td>Synt_10005</td><td>2</td><td>Soltu.Atl_v3.04_0G000410.1</td><td>Soltu.Atl_v3.04_3G007520.1</td><td> 2.2099</td><td>0.3652</td><td>98.59</td></tr>\n",
       "</tbody>\n",
       "</table>\n"
      ],
      "text/latex": [
       "A data.frame: 6 × 7\n",
       "\\begin{tabular}{r|lllllll}\n",
       "  & Syntelog & Alleles & Allele1 & Allele2 & Ks & Kn & percent\\_id1\\\\\n",
       "  & <chr> & <int> & <chr> & <chr> & <dbl> & <dbl> & <dbl>\\\\\n",
       "\\hline\n",
       "\t1 & Synt\\_10    & 2 & Soltu.Atl\\_v3.01\\_2G000110.1 & Soltu.Atl\\_v3.01\\_3G000170.1 &  0.0438 & 0.0094 & 98.25\\\\\n",
       "\t2 & Synt\\_100   & 3 & Soltu.Atl\\_v3.01\\_2G001750.2 & Soltu.Atl\\_v3.01\\_3G001570.1 & 86.6671 & 0.4814 & 98.11\\\\\n",
       "\t3 & Synt\\_100   & 3 & Soltu.Atl\\_v3.01\\_2G001750.2 & Soltu.Atl\\_v3.01\\_4G001820.1 &  0.0233 & 0.0052 & 98.80\\\\\n",
       "\t4 & Synt\\_100   & 3 & Soltu.Atl\\_v3.01\\_3G001570.1 & Soltu.Atl\\_v3.01\\_4G001820.1 & 85.6832 & 0.4754 & 98.62\\\\\n",
       "\t5 & Synt\\_10004 & 2 & Soltu.Atl\\_v3.04\\_0G000390.1 & Soltu.Atl\\_v3.04\\_3G007510.1 &  0.0339 & 0.0031 & 99.23\\\\\n",
       "\t6 & Synt\\_10005 & 2 & Soltu.Atl\\_v3.04\\_0G000410.1 & Soltu.Atl\\_v3.04\\_3G007520.1 &  2.2099 & 0.3652 & 98.59\\\\\n",
       "\\end{tabular}\n"
      ],
      "text/markdown": [
       "\n",
       "A data.frame: 6 × 7\n",
       "\n",
       "| <!--/--> | Syntelog &lt;chr&gt; | Alleles &lt;int&gt; | Allele1 &lt;chr&gt; | Allele2 &lt;chr&gt; | Ks &lt;dbl&gt; | Kn &lt;dbl&gt; | percent_id1 &lt;dbl&gt; |\n",
       "|---|---|---|---|---|---|---|---|\n",
       "| 1 | Synt_10    | 2 | Soltu.Atl_v3.01_2G000110.1 | Soltu.Atl_v3.01_3G000170.1 |  0.0438 | 0.0094 | 98.25 |\n",
       "| 2 | Synt_100   | 3 | Soltu.Atl_v3.01_2G001750.2 | Soltu.Atl_v3.01_3G001570.1 | 86.6671 | 0.4814 | 98.11 |\n",
       "| 3 | Synt_100   | 3 | Soltu.Atl_v3.01_2G001750.2 | Soltu.Atl_v3.01_4G001820.1 |  0.0233 | 0.0052 | 98.80 |\n",
       "| 4 | Synt_100   | 3 | Soltu.Atl_v3.01_3G001570.1 | Soltu.Atl_v3.01_4G001820.1 | 85.6832 | 0.4754 | 98.62 |\n",
       "| 5 | Synt_10004 | 2 | Soltu.Atl_v3.04_0G000390.1 | Soltu.Atl_v3.04_3G007510.1 |  0.0339 | 0.0031 | 99.23 |\n",
       "| 6 | Synt_10005 | 2 | Soltu.Atl_v3.04_0G000410.1 | Soltu.Atl_v3.04_3G007520.1 |  2.2099 | 0.3652 | 98.59 |\n",
       "\n"
      ],
      "text/plain": [
       "  Syntelog   Alleles Allele1                    Allele2                   \n",
       "1 Synt_10    2       Soltu.Atl_v3.01_2G000110.1 Soltu.Atl_v3.01_3G000170.1\n",
       "2 Synt_100   3       Soltu.Atl_v3.01_2G001750.2 Soltu.Atl_v3.01_3G001570.1\n",
       "3 Synt_100   3       Soltu.Atl_v3.01_2G001750.2 Soltu.Atl_v3.01_4G001820.1\n",
       "4 Synt_100   3       Soltu.Atl_v3.01_3G001570.1 Soltu.Atl_v3.01_4G001820.1\n",
       "5 Synt_10004 2       Soltu.Atl_v3.04_0G000390.1 Soltu.Atl_v3.04_3G007510.1\n",
       "6 Synt_10005 2       Soltu.Atl_v3.04_0G000410.1 Soltu.Atl_v3.04_3G007520.1\n",
       "  Ks      Kn     percent_id1\n",
       "1  0.0438 0.0094 98.25      \n",
       "2 86.6671 0.4814 98.11      \n",
       "3  0.0233 0.0052 98.80      \n",
       "4 85.6832 0.4754 98.62      \n",
       "5  0.0339 0.0031 99.23      \n",
       "6  2.2099 0.3652 98.59      "
      ]
     },
     "metadata": {},
     "output_type": "display_data"
    },
    {
     "data": {
      "text/html": [
       "41953"
      ],
      "text/latex": [
       "41953"
      ],
      "text/markdown": [
       "41953"
      ],
      "text/plain": [
       "[1] 41953"
      ]
     },
     "metadata": {},
     "output_type": "display_data"
    }
   ],
   "source": [
    "CoGeSynMapExpr <- CoGeSynMapExprA %>% rbind(CoGeSynMapExprB) %>% unique()\n",
    "head(CoGeSynMapExpr)\n",
    "nrow(CoGeSynMapExpr )"
   ]
  },
  {
   "cell_type": "code",
   "execution_count": null,
   "id": "73eca9b0-e73a-4400-b03b-dcdfac1debe4",
   "metadata": {},
   "outputs": [],
   "source": []
  },
  {
   "cell_type": "code",
   "execution_count": null,
   "id": "dbb07cf2-d169-4463-a807-af00b3cd70a2",
   "metadata": {},
   "outputs": [],
   "source": []
  },
  {
   "cell_type": "code",
   "execution_count": null,
   "id": "e1dc3ab3-70a4-40ec-8fd2-38176749fb04",
   "metadata": {},
   "outputs": [],
   "source": []
  },
  {
   "cell_type": "markdown",
   "id": "5f0e6c49-578c-4fb0-8993-19ec64ffd273",
   "metadata": {},
   "source": [
    "## Import rhythmic data"
   ]
  },
  {
   "cell_type": "code",
   "execution_count": 25,
   "id": "79282ad0-3da2-4ef0-864b-36798322bacb",
   "metadata": {},
   "outputs": [],
   "source": [
    "SDLD<- import(file = , '../ATL_AllelicGroupRhythmicity/Results/ExpressedGenes_JTK_AllelicGroups.csv',\n",
    "                                sep =',', header = TRUE, fill = TRUE )\n"
   ]
  },
  {
   "cell_type": "code",
   "execution_count": 26,
   "id": "8f8ce7e4-947c-457f-b6b1-d1ad22321938",
   "metadata": {},
   "outputs": [
    {
     "data": {
      "text/html": [
       "<table class=\"dataframe\">\n",
       "<caption>A data.frame: 2 × 14</caption>\n",
       "<thead>\n",
       "\t<tr><th></th><th scope=col>Syntelog</th><th scope=col>Tissue</th><th scope=col>Condition</th><th scope=col>ATL_expressed_alleles</th><th scope=col>geneID</th><th scope=col>target_id</th><th scope=col>Average</th><th scope=col>SD</th><th scope=col>ATL_alleles</th><th scope=col>BH.Q</th><th scope=col>ADJ.P</th><th scope=col>Period</th><th scope=col>Adj_phase</th><th scope=col>Amplitude</th></tr>\n",
       "\t<tr><th></th><th scope=col>&lt;chr&gt;</th><th scope=col>&lt;chr&gt;</th><th scope=col>&lt;chr&gt;</th><th scope=col>&lt;int&gt;</th><th scope=col>&lt;chr&gt;</th><th scope=col>&lt;chr&gt;</th><th scope=col>&lt;dbl&gt;</th><th scope=col>&lt;dbl&gt;</th><th scope=col>&lt;int&gt;</th><th scope=col>&lt;dbl&gt;</th><th scope=col>&lt;dbl&gt;</th><th scope=col>&lt;int&gt;</th><th scope=col>&lt;int&gt;</th><th scope=col>&lt;dbl&gt;</th></tr>\n",
       "</thead>\n",
       "<tbody>\n",
       "\t<tr><th scope=row>1</th><td>Synt_1</td><td>Leaf</td><td>LD</td><td>4</td><td>Soltu.Atl_v3.01_1G000020.2</td><td>Soltu.Atl_v3.01_1G000020</td><td>7.395377</td><td>0.1577245</td><td>4</td><td>1</td><td>1</td><td>20</td><td>19</td><td>0.10051609</td></tr>\n",
       "\t<tr><th scope=row>2</th><td>Synt_1</td><td>Leaf</td><td>LD</td><td>4</td><td>Soltu.Atl_v3.01_2G000020.1</td><td>Soltu.Atl_v3.01_2G000020</td><td>5.948141</td><td>0.1212230</td><td>4</td><td>1</td><td>1</td><td>20</td><td> 4</td><td>0.09175902</td></tr>\n",
       "</tbody>\n",
       "</table>\n"
      ],
      "text/latex": [
       "A data.frame: 2 × 14\n",
       "\\begin{tabular}{r|llllllllllllll}\n",
       "  & Syntelog & Tissue & Condition & ATL\\_expressed\\_alleles & geneID & target\\_id & Average & SD & ATL\\_alleles & BH.Q & ADJ.P & Period & Adj\\_phase & Amplitude\\\\\n",
       "  & <chr> & <chr> & <chr> & <int> & <chr> & <chr> & <dbl> & <dbl> & <int> & <dbl> & <dbl> & <int> & <int> & <dbl>\\\\\n",
       "\\hline\n",
       "\t1 & Synt\\_1 & Leaf & LD & 4 & Soltu.Atl\\_v3.01\\_1G000020.2 & Soltu.Atl\\_v3.01\\_1G000020 & 7.395377 & 0.1577245 & 4 & 1 & 1 & 20 & 19 & 0.10051609\\\\\n",
       "\t2 & Synt\\_1 & Leaf & LD & 4 & Soltu.Atl\\_v3.01\\_2G000020.1 & Soltu.Atl\\_v3.01\\_2G000020 & 5.948141 & 0.1212230 & 4 & 1 & 1 & 20 &  4 & 0.09175902\\\\\n",
       "\\end{tabular}\n"
      ],
      "text/markdown": [
       "\n",
       "A data.frame: 2 × 14\n",
       "\n",
       "| <!--/--> | Syntelog &lt;chr&gt; | Tissue &lt;chr&gt; | Condition &lt;chr&gt; | ATL_expressed_alleles &lt;int&gt; | geneID &lt;chr&gt; | target_id &lt;chr&gt; | Average &lt;dbl&gt; | SD &lt;dbl&gt; | ATL_alleles &lt;int&gt; | BH.Q &lt;dbl&gt; | ADJ.P &lt;dbl&gt; | Period &lt;int&gt; | Adj_phase &lt;int&gt; | Amplitude &lt;dbl&gt; |\n",
       "|---|---|---|---|---|---|---|---|---|---|---|---|---|---|---|\n",
       "| 1 | Synt_1 | Leaf | LD | 4 | Soltu.Atl_v3.01_1G000020.2 | Soltu.Atl_v3.01_1G000020 | 7.395377 | 0.1577245 | 4 | 1 | 1 | 20 | 19 | 0.10051609 |\n",
       "| 2 | Synt_1 | Leaf | LD | 4 | Soltu.Atl_v3.01_2G000020.1 | Soltu.Atl_v3.01_2G000020 | 5.948141 | 0.1212230 | 4 | 1 | 1 | 20 |  4 | 0.09175902 |\n",
       "\n"
      ],
      "text/plain": [
       "  Syntelog Tissue Condition ATL_expressed_alleles geneID                    \n",
       "1 Synt_1   Leaf   LD        4                     Soltu.Atl_v3.01_1G000020.2\n",
       "2 Synt_1   Leaf   LD        4                     Soltu.Atl_v3.01_2G000020.1\n",
       "  target_id                Average  SD        ATL_alleles BH.Q ADJ.P Period\n",
       "1 Soltu.Atl_v3.01_1G000020 7.395377 0.1577245 4           1    1     20    \n",
       "2 Soltu.Atl_v3.01_2G000020 5.948141 0.1212230 4           1    1     20    \n",
       "  Adj_phase Amplitude \n",
       "1 19        0.10051609\n",
       "2  4        0.09175902"
      ]
     },
     "metadata": {},
     "output_type": "display_data"
    }
   ],
   "source": [
    "SDLD[1:2,]"
   ]
  },
  {
   "cell_type": "code",
   "execution_count": 27,
   "id": "f08c0dde-fc81-4983-9871-daa0fe8141e0",
   "metadata": {},
   "outputs": [
    {
     "data": {
      "text/html": [
       "<table class=\"dataframe\">\n",
       "<caption>A data.frame: 2 × 7</caption>\n",
       "<thead>\n",
       "\t<tr><th></th><th scope=col>Syntelog</th><th scope=col>Alleles</th><th scope=col>Allele1</th><th scope=col>Allele2</th><th scope=col>Ks</th><th scope=col>Kn</th><th scope=col>percent_id1</th></tr>\n",
       "\t<tr><th></th><th scope=col>&lt;chr&gt;</th><th scope=col>&lt;int&gt;</th><th scope=col>&lt;chr&gt;</th><th scope=col>&lt;chr&gt;</th><th scope=col>&lt;dbl&gt;</th><th scope=col>&lt;dbl&gt;</th><th scope=col>&lt;dbl&gt;</th></tr>\n",
       "</thead>\n",
       "<tbody>\n",
       "\t<tr><th scope=row>1</th><td>Synt_10 </td><td>2</td><td>Soltu.Atl_v3.01_2G000110.1</td><td>Soltu.Atl_v3.01_3G000170.1</td><td> 0.0438</td><td>0.0094</td><td>98.25</td></tr>\n",
       "\t<tr><th scope=row>2</th><td>Synt_100</td><td>3</td><td>Soltu.Atl_v3.01_2G001750.2</td><td>Soltu.Atl_v3.01_3G001570.1</td><td>86.6671</td><td>0.4814</td><td>98.11</td></tr>\n",
       "</tbody>\n",
       "</table>\n"
      ],
      "text/latex": [
       "A data.frame: 2 × 7\n",
       "\\begin{tabular}{r|lllllll}\n",
       "  & Syntelog & Alleles & Allele1 & Allele2 & Ks & Kn & percent\\_id1\\\\\n",
       "  & <chr> & <int> & <chr> & <chr> & <dbl> & <dbl> & <dbl>\\\\\n",
       "\\hline\n",
       "\t1 & Synt\\_10  & 2 & Soltu.Atl\\_v3.01\\_2G000110.1 & Soltu.Atl\\_v3.01\\_3G000170.1 &  0.0438 & 0.0094 & 98.25\\\\\n",
       "\t2 & Synt\\_100 & 3 & Soltu.Atl\\_v3.01\\_2G001750.2 & Soltu.Atl\\_v3.01\\_3G001570.1 & 86.6671 & 0.4814 & 98.11\\\\\n",
       "\\end{tabular}\n"
      ],
      "text/markdown": [
       "\n",
       "A data.frame: 2 × 7\n",
       "\n",
       "| <!--/--> | Syntelog &lt;chr&gt; | Alleles &lt;int&gt; | Allele1 &lt;chr&gt; | Allele2 &lt;chr&gt; | Ks &lt;dbl&gt; | Kn &lt;dbl&gt; | percent_id1 &lt;dbl&gt; |\n",
       "|---|---|---|---|---|---|---|---|\n",
       "| 1 | Synt_10  | 2 | Soltu.Atl_v3.01_2G000110.1 | Soltu.Atl_v3.01_3G000170.1 |  0.0438 | 0.0094 | 98.25 |\n",
       "| 2 | Synt_100 | 3 | Soltu.Atl_v3.01_2G001750.2 | Soltu.Atl_v3.01_3G001570.1 | 86.6671 | 0.4814 | 98.11 |\n",
       "\n"
      ],
      "text/plain": [
       "  Syntelog Alleles Allele1                    Allele2                   \n",
       "1 Synt_10  2       Soltu.Atl_v3.01_2G000110.1 Soltu.Atl_v3.01_3G000170.1\n",
       "2 Synt_100 3       Soltu.Atl_v3.01_2G001750.2 Soltu.Atl_v3.01_3G001570.1\n",
       "  Ks      Kn     percent_id1\n",
       "1  0.0438 0.0094 98.25      \n",
       "2 86.6671 0.4814 98.11      "
      ]
     },
     "metadata": {},
     "output_type": "display_data"
    }
   ],
   "source": [
    "CoGeSynMapExpr[1:2,]"
   ]
  },
  {
   "cell_type": "markdown",
   "id": "ecb835fc-8319-4a35-bb31-74ed902c62d6",
   "metadata": {},
   "source": [
    "## Are cycling allelic pairs potentially more functionally similar than not cycling ones?\n"
   ]
  },
  {
   "cell_type": "code",
   "execution_count": 28,
   "id": "8cb41ee7-c5d2-4aef-b67b-d814746815f9",
   "metadata": {},
   "outputs": [
    {
     "data": {
      "text/html": [
       "<table class=\"dataframe\">\n",
       "<caption>A data.frame: 2 × 10</caption>\n",
       "<thead>\n",
       "\t<tr><th></th><th scope=col>Ks</th><th scope=col>Kn</th><th scope=col>Allele1</th><th scope=col>Allele2</th><th scope=col>percent_id1</th><th scope=col>Condition</th><th scope=col>Tissue</th><th scope=col>Syntelog</th><th scope=col>ADJ.P1</th><th scope=col>ADJ.P2</th></tr>\n",
       "\t<tr><th></th><th scope=col>&lt;dbl&gt;</th><th scope=col>&lt;dbl&gt;</th><th scope=col>&lt;chr&gt;</th><th scope=col>&lt;chr&gt;</th><th scope=col>&lt;dbl&gt;</th><th scope=col>&lt;chr&gt;</th><th scope=col>&lt;chr&gt;</th><th scope=col>&lt;chr&gt;</th><th scope=col>&lt;dbl&gt;</th><th scope=col>&lt;dbl&gt;</th></tr>\n",
       "</thead>\n",
       "<tbody>\n",
       "\t<tr><th scope=row>1</th><td>0.0438</td><td>0.0094</td><td>Soltu.Atl_v3.01_2G000110.1</td><td>Soltu.Atl_v3.01_3G000170.1</td><td>98.25</td><td>LD</td><td>Leaf</td><td>Synt_10</td><td>0.177511592</td><td>2.359821e-03</td></tr>\n",
       "\t<tr><th scope=row>2</th><td>0.0438</td><td>0.0094</td><td>Soltu.Atl_v3.01_2G000110.1</td><td>Soltu.Atl_v3.01_3G000170.1</td><td>98.25</td><td>SD</td><td>Leaf</td><td>Synt_10</td><td>0.009413501</td><td>4.027794e-06</td></tr>\n",
       "</tbody>\n",
       "</table>\n"
      ],
      "text/latex": [
       "A data.frame: 2 × 10\n",
       "\\begin{tabular}{r|llllllllll}\n",
       "  & Ks & Kn & Allele1 & Allele2 & percent\\_id1 & Condition & Tissue & Syntelog & ADJ.P1 & ADJ.P2\\\\\n",
       "  & <dbl> & <dbl> & <chr> & <chr> & <dbl> & <chr> & <chr> & <chr> & <dbl> & <dbl>\\\\\n",
       "\\hline\n",
       "\t1 & 0.0438 & 0.0094 & Soltu.Atl\\_v3.01\\_2G000110.1 & Soltu.Atl\\_v3.01\\_3G000170.1 & 98.25 & LD & Leaf & Synt\\_10 & 0.177511592 & 2.359821e-03\\\\\n",
       "\t2 & 0.0438 & 0.0094 & Soltu.Atl\\_v3.01\\_2G000110.1 & Soltu.Atl\\_v3.01\\_3G000170.1 & 98.25 & SD & Leaf & Synt\\_10 & 0.009413501 & 4.027794e-06\\\\\n",
       "\\end{tabular}\n"
      ],
      "text/markdown": [
       "\n",
       "A data.frame: 2 × 10\n",
       "\n",
       "| <!--/--> | Ks &lt;dbl&gt; | Kn &lt;dbl&gt; | Allele1 &lt;chr&gt; | Allele2 &lt;chr&gt; | percent_id1 &lt;dbl&gt; | Condition &lt;chr&gt; | Tissue &lt;chr&gt; | Syntelog &lt;chr&gt; | ADJ.P1 &lt;dbl&gt; | ADJ.P2 &lt;dbl&gt; |\n",
       "|---|---|---|---|---|---|---|---|---|---|---|\n",
       "| 1 | 0.0438 | 0.0094 | Soltu.Atl_v3.01_2G000110.1 | Soltu.Atl_v3.01_3G000170.1 | 98.25 | LD | Leaf | Synt_10 | 0.177511592 | 2.359821e-03 |\n",
       "| 2 | 0.0438 | 0.0094 | Soltu.Atl_v3.01_2G000110.1 | Soltu.Atl_v3.01_3G000170.1 | 98.25 | SD | Leaf | Synt_10 | 0.009413501 | 4.027794e-06 |\n",
       "\n"
      ],
      "text/plain": [
       "  Ks     Kn     Allele1                    Allele2                   \n",
       "1 0.0438 0.0094 Soltu.Atl_v3.01_2G000110.1 Soltu.Atl_v3.01_3G000170.1\n",
       "2 0.0438 0.0094 Soltu.Atl_v3.01_2G000110.1 Soltu.Atl_v3.01_3G000170.1\n",
       "  percent_id1 Condition Tissue Syntelog ADJ.P1      ADJ.P2      \n",
       "1 98.25       LD        Leaf   Synt_10  0.177511592 2.359821e-03\n",
       "2 98.25       SD        Leaf   Synt_10  0.009413501 4.027794e-06"
      ]
     },
     "metadata": {},
     "output_type": "display_data"
    },
    {
     "data": {
      "text/html": [
       "122688"
      ],
      "text/latex": [
       "122688"
      ],
      "text/markdown": [
       "122688"
      ],
      "text/plain": [
       "[1] 122688"
      ]
     },
     "metadata": {},
     "output_type": "display_data"
    }
   ],
   "source": [
    "CoGeSynExprCyc <- CoGeSynMapExpr %>% select(Ks, Kn, Allele1, Allele2, percent_id1) %>% \n",
    "            left_join(SDLD %>% select(Condition, Tissue, Syntelog, geneID, ADJ.P), by =c ('Allele1' = 'geneID'), relationship = 'many-to-many')%>%\n",
    "            rename(ADJ.P1 = ADJ.P) %>%\n",
    "            left_join(SDLD %>% select(Condition, Tissue, geneID, ADJ.P), by =c ('Allele2' = 'geneID', 'Condition' = 'Condition', 'Tissue' = 'Tissue'))%>%\n",
    "            rename(ADJ.P2 = ADJ.P) %>% \n",
    "            filter(!is.na(ADJ.P1), !is.na(ADJ.P2), !is.na(Ks))\n",
    "\n",
    "CoGeSynExprCyc[1:2,]   \n",
    "nrow(CoGeSynExprCyc)      \n",
    "                "
   ]
  },
  {
   "cell_type": "code",
   "execution_count": null,
   "id": "e5d4cdc7-af76-406e-b842-4a53179e9b88",
   "metadata": {},
   "outputs": [],
   "source": []
  },
  {
   "cell_type": "code",
   "execution_count": null,
   "id": "39a9eaac-a108-4c8b-b407-1d51eec6a28a",
   "metadata": {},
   "outputs": [],
   "source": []
  },
  {
   "cell_type": "markdown",
   "id": "5fc42421-3a06-4d34-ae2d-700de2d50d1d",
   "metadata": {},
   "source": [
    "#### What is the Ks and Kn distributions"
   ]
  },
  {
   "cell_type": "code",
   "execution_count": 29,
   "id": "c10e3c37-2780-4c83-8f88-fdc74a489d72",
   "metadata": {},
   "outputs": [
    {
     "data": {
      "image/png": "[encoded data removed]",
      "text/plain": [
       "plot without title"
      ]
     },
     "metadata": {
      "image/png": {
       "height": 420,
       "width": 420
      }
     },
     "output_type": "display_data"
    }
   ],
   "source": [
    "## Using SHORT DAY rhythmic data only, as that contains the most rhythmic genes\n",
    "#::::::::::::::::::::::::::::::::::::::::::::::::::::::::::::::::::::::::::::::::\n",
    "\n",
    "Ks_plotSD <- CoGeSynExprCyc  %>% filter(!is.na(Syntelog), !is.na(Ks), !is.na(ADJ.P1), !is.na(ADJ.P2) ) %>% \n",
    "            filter (Ks < 3) %>% \n",
    "            \n",
    "            mutate(Rhythmic_Alleles = case_when(ADJ.P1 < 0.001 & ADJ.P2 < 0.001 ~ '2',\n",
    "                                        ADJ.P1 >= 0.001 & ADJ.P2 >= 0.001  ~ '0',\n",
    "                                      ADJ.P1 < 0.001 & ADJ.P2 >= 0.001  ~ '1',\n",
    "                                       ADJ.P1 >= 0.001 & ADJ.P2 < 0.001 ~'1')) %>% \n",
    "\n",
    "            mutate(Rhythmic_Alleles = factor(Rhythmic_Alleles, levels = c('0','1','2'))) %>%\n",
    "            filter(!is.na(Rhythmic_Alleles)) %>%\n",
    "\n",
    "    ggplot( aes(x=Ks  , color = Rhythmic_Alleles, y = after_stat(scaled))) +\n",
    "\n",
    "    geom_density(linewidth = 1.5)+\n",
    "     coord_cartesian(xlim=c(-0,1.1))+\n",
    "        scale_x_continuous(expand = expansion(mult = c(0, 0)))+\n",
    "         labs(y=\"Density\", x=\"Ks\")+\n",
    "\n",
    "   \n",
    "        theme_classic()+\n",
    "            theme (\n",
    "            axis.title.x = element_text(size = 20),\n",
    "            axis.title.y = element_text(size = 20),\n",
    "            axis.text = element_text(size = 20, color = \"black\"),\n",
    "                strip.text.x = element_text(size = 20),\n",
    "                legend.text=element_text(size=20),\n",
    "                legend.title=element_text(size=20)\n",
    "            )+\n",
    "                \n",
    "            \n",
    "scale_color_manual('Rhythmic alleles', values = c('2' = '#33539E',  ##1F449C #darker blue/grey\n",
    "                                    '1'= '#A5678E',   ##7CA1CC\n",
    "                                      '0' = '#969ba8')) # blue\n",
    "\n",
    "Ks_plotSD"
   ]
  },
  {
   "cell_type": "code",
   "execution_count": 30,
   "id": "09c6e3ee-7692-43bf-b60d-407f4bd6c6f7",
   "metadata": {},
   "outputs": [],
   "source": [
    "Ks_plotSD %>% ggsave(file=\"./Results/CoGesyn_Ks_Plot.pdf\", \n",
    "                            width=7, height=6, dpi=600)"
   ]
  },
  {
   "cell_type": "code",
   "execution_count": 31,
   "id": "f71d53ec-9d08-4afa-8007-9d70f2382734",
   "metadata": {},
   "outputs": [
    {
     "data": {
      "image/png": "[encoded data removed]",
      "text/plain": [
       "plot without title"
      ]
     },
     "metadata": {
      "image/png": {
       "height": 420,
       "width": 420
      }
     },
     "output_type": "display_data"
    }
   ],
   "source": [
    "Kn_plotSD <- CoGeSynExprCyc  %>% filter(!is.na(Syntelog), !is.na(Ks), !is.na(ADJ.P1), !is.na(ADJ.P2) ) %>% \n",
    "            filter (Ks < 3) %>% \n",
    "            \n",
    "            mutate(Rhythmic_Alleles = case_when(ADJ.P1 < 0.001 & ADJ.P2 < 0.001 ~ '2',\n",
    "                                        ADJ.P1 >= 0.001 & ADJ.P2 >= 0.001  ~ '0',\n",
    "                                      ADJ.P1 < 0.001 & ADJ.P2 >= 0.001  ~ '1',\n",
    "                                       ADJ.P1 >= 0.001 & ADJ.P2 < 0.001 ~'1')) %>% \n",
    "\n",
    "            mutate(Rhythmic_Alleles = factor(Rhythmic_Alleles, levels = c('0','1','2'))) %>%\n",
    "            filter(!is.na(Rhythmic_Alleles)) %>%\n",
    "\n",
    "    ggplot( aes(x=Kn  , color = Rhythmic_Alleles, y = after_stat(scaled))) +\n",
    "\n",
    "    geom_density(linewidth = 1.5)+\n",
    "     coord_cartesian(xlim=c(-0,1.1))+\n",
    "        scale_x_continuous(expand = expansion(mult = c(0, 0)))+\n",
    "         labs(y=\"Density\", x=\"Kn\")+\n",
    "\n",
    "   \n",
    "        theme_classic()+\n",
    "            theme (\n",
    "            axis.title.x = element_text(size = 20),\n",
    "            axis.title.y = element_text(size = 20),\n",
    "            axis.text = element_text(size = 20, color = \"black\"),\n",
    "                strip.text.x = element_text(size = 20),\n",
    "                legend.text=element_text(size=20),\n",
    "                legend.title=element_text(size=20)\n",
    "            )+\n",
    "                \n",
    "            \n",
    "scale_color_manual('Rhythmic alleles', values = c('2' = '#33539E',  ##1F449C #darker blue/grey\n",
    "                                    '1'= '#A5678E',   ##7CA1CC\n",
    "                                      '0' = '#969ba8')) # blue\n",
    "\n",
    "Kn_plotSD"
   ]
  },
  {
   "cell_type": "code",
   "execution_count": null,
   "id": "0bff28e7-90bd-4bf3-8f3c-c1b0eeadf963",
   "metadata": {},
   "outputs": [],
   "source": []
  },
  {
   "cell_type": "code",
   "execution_count": 32,
   "id": "1452b10e-99ed-49dd-93de-3687805a08ce",
   "metadata": {},
   "outputs": [
    {
     "data": {
      "text/html": [
       "122688"
      ],
      "text/latex": [
       "122688"
      ],
      "text/markdown": [
       "122688"
      ],
      "text/plain": [
       "[1] 122688"
      ]
     },
     "metadata": {},
     "output_type": "display_data"
    },
    {
     "data": {
      "text/html": [
       "102183"
      ],
      "text/latex": [
       "102183"
      ],
      "text/markdown": [
       "102183"
      ],
      "text/plain": [
       "[1] 102183"
      ]
     },
     "metadata": {},
     "output_type": "display_data"
    }
   ],
   "source": [
    "CoGeSynExprCyc %>%  nrow()\n",
    "CoGeSynExprCyc  %>% filter (!is.na(Syntelog)) %>% filter( Ks> 0.001, Ks < 3) %>% nrow()"
   ]
  },
  {
   "cell_type": "markdown",
   "id": "d3039e2b-75d6-439b-b474-61a07d485e02",
   "metadata": {},
   "source": [
    "### Plotting Kn/Ks ratio in allelic pairs with different rhythmicity"
   ]
  },
  {
   "cell_type": "code",
   "execution_count": 33,
   "id": "c92bd113-539d-4939-ab8b-d064c0d2fead",
   "metadata": {},
   "outputs": [
    {
     "name": "stderr",
     "output_type": "stream",
     "text": [
      "Warning message:\n",
      "“\u001b[1m\u001b[22mNo shared levels found between `names(values)` of the manual scale and the\n",
      "data's \u001b[32mcolour\u001b[39m values.”\n",
      "Warning message:\n",
      "“\u001b[1m\u001b[22mNo shared levels found between `names(values)` of the manual scale and the\n",
      "data's \u001b[32mcolour\u001b[39m values.”\n"
     ]
    },
    {
     "data": {
      "image/png": "[encoded data removed]",
      "text/plain": [
       "plot without title"
      ]
     },
     "metadata": {
      "image/png": {
       "height": 420,
       "width": 420
      }
     },
     "output_type": "display_data"
    }
   ],
   "source": [
    "## USING SHORT DAY LEAF DATA ONLY\n",
    "#:::::::::::::::::::::::::::::::::::::\n",
    "CoGeSynt_CycAllelicPairs_Plot_stats_SD <- CoGeSynExprCyc  %>% \n",
    "            filter(Tissue == 'Leaf', Condition == 'SD') %>% \n",
    "            filter (!is.na(Syntelog)) %>% \n",
    "    \n",
    "            filter( Ks> 0.001, Ks < 3) %>% ## PAT EDGER USES Ks<3 cut off\n",
    "\n",
    "  mutate(Rhythmic_Alleles = case_when(ADJ.P1 < 0.001 & ADJ.P2 < 0.001 ~ '2',\n",
    "                                        ADJ.P1 >= 0.001 & ADJ.P2 >= 0.001  ~ '0',\n",
    "                                      ADJ.P1 < 0.001 & ADJ.P2 >= 0.001  ~ '1',\n",
    "                                       ADJ.P1 >= 0.001 & ADJ.P2 < 0.001 ~'1')) %>% \n",
    "\n",
    "            mutate(Rhythmic_Alleles = factor(Rhythmic_Alleles, levels = c('0','1','2'))) %>%\n",
    "            filter(!is.na(Rhythmic_Alleles)) %>%\n",
    "           \n",
    "                   ggplot(aes(x= Rhythmic_Alleles, y = Kn/Ks))+\n",
    "  \n",
    "            geom_boxplot( aes(col = 'black', fill = Rhythmic_Alleles), outlier.shape = NA)+  \n",
    "    \n",
    "      \n",
    "            labs(y=\"Kn/Ks\", x=\"Rhythmic alleles in pair\")+\n",
    "          \n",
    "          coord_cartesian(ylim=c(0,2))+\n",
    "\n",
    "stat_summary(fun = mean,\n",
    "               geom = \"crossbar\", \n",
    "               width = 0.1,\n",
    "             colour = \"#E8B7DA\")+  \n",
    "                   \n",
    " \n",
    "         scale_color_manual(values = c('2' = '#33539E',  ##1F449C #darker blue/grey\n",
    "                                    '1'= '#A5678E',   ##7CA1CC\n",
    "                                      '0' = '#969ba8'))+ # blue\n",
    "    scale_fill_manual(values = alpha(c('2' = '#33539E', #darker blue/grey  '#1F449C'\n",
    "                                    '1'= '#A5678E',   #7CA1CC\n",
    "                                      '0' = '#969ba8')))+\n",
    "\n",
    "                      \n",
    "   \n",
    "theme_classic()+\n",
    "            theme (\n",
    "            axis.title.x = element_text(size = 20),\n",
    "            axis.title.y = element_text(size = 20),\n",
    "            axis.text = element_text(size = 20, color = \"black\"),\n",
    "                strip.text.x = element_text(size = 20),\n",
    "                #axis.text.x=element_text(angle=90,hjust=1,vjust = 0.3),\n",
    "            legend.position=\"none\")+\n",
    "\n",
    "\n",
    "stat_compare_means(method= 'kruskal.test',label.y = c(1.1), size = 4) + #Kruskal-Wallis multiple comparisons\n",
    "\n",
    " stat_compare_means(comparisons = list(c('1','2'), c('1', '0'), c('2','0')),   #Kruskal-Wallis multiple comparisons\n",
    "                    method = 'wilcox.test',       \n",
    "                    p.adjust.method=\"bonferroni\",\n",
    "                          symnum.args = list(cutpoints = c(0, 0.0001, 0.001, 0.01, 0.05, 1), \n",
    "                        symbols = c(\"****\", \"***\", \"**\", \"*\", \"ns\")),\n",
    "                        label.y = c(0.7, 0.85,1.0), size = 4,\n",
    "                  tip.length = 0.01) # Adhoc pairwise comparisons p-value\n",
    "\n",
    "\n",
    "\n",
    "CoGeSynt_CycAllelicPairs_Plot_stats_SD\n"
   ]
  },
  {
   "cell_type": "markdown",
   "id": "c222d619-b362-40ac-8200-4fb19073bf9b",
   "metadata": {},
   "source": [
    "#### Add statistics results using letter notation"
   ]
  },
  {
   "cell_type": "code",
   "execution_count": 34,
   "id": "13164b6f-47b2-428f-9c9a-33622abc664e",
   "metadata": {},
   "outputs": [
    {
     "data": {
      "text/html": [
       "<table class=\"dataframe\">\n",
       "<caption>A data.frame: 3 × 2</caption>\n",
       "<thead>\n",
       "\t<tr><th scope=col>same</th><th scope=col>Rhythmic_Alleles</th></tr>\n",
       "\t<tr><th scope=col>&lt;chr&gt;</th><th scope=col>&lt;chr&gt;</th></tr>\n",
       "</thead>\n",
       "<tbody>\n",
       "\t<tr><td>a</td><td>0</td></tr>\n",
       "\t<tr><td>a</td><td>1</td></tr>\n",
       "\t<tr><td>b</td><td>2</td></tr>\n",
       "</tbody>\n",
       "</table>\n"
      ],
      "text/latex": [
       "A data.frame: 3 × 2\n",
       "\\begin{tabular}{ll}\n",
       " same & Rhythmic\\_Alleles\\\\\n",
       " <chr> & <chr>\\\\\n",
       "\\hline\n",
       "\t a & 0\\\\\n",
       "\t a & 1\\\\\n",
       "\t b & 2\\\\\n",
       "\\end{tabular}\n"
      ],
      "text/markdown": [
       "\n",
       "A data.frame: 3 × 2\n",
       "\n",
       "| same &lt;chr&gt; | Rhythmic_Alleles &lt;chr&gt; |\n",
       "|---|---|\n",
       "| a | 0 |\n",
       "| a | 1 |\n",
       "| b | 2 |\n",
       "\n"
      ],
      "text/plain": [
       "  same Rhythmic_Alleles\n",
       "1 a    0               \n",
       "2 a    1               \n",
       "3 b    2               "
      ]
     },
     "metadata": {},
     "output_type": "display_data"
    }
   ],
   "source": [
    "label_KnKs<- data.frame( same = c('a', 'a', 'b'), \n",
    "                     Rhythmic_Alleles = c('0','1','2'))\n",
    "                     \n",
    "\n",
    "label_KnKs\n",
    "label_KnKs$Rhythmic_Alleles<- as.factor(label_KnKs$Rhythmic_Alleles)\n"
   ]
  },
  {
   "cell_type": "code",
   "execution_count": 35,
   "id": "7cb4fc3d-93c2-4fdc-83b0-af592eb07246",
   "metadata": {},
   "outputs": [
    {
     "name": "stderr",
     "output_type": "stream",
     "text": [
      "Warning message:\n",
      "“\u001b[1m\u001b[22mNo shared levels found between `names(values)` of the manual scale and the\n",
      "data's \u001b[32mcolour\u001b[39m values.”\n",
      "Warning message:\n",
      "“\u001b[1m\u001b[22mNo shared levels found between `names(values)` of the manual scale and the\n",
      "data's \u001b[32mcolour\u001b[39m values.”\n"
     ]
    },
    {
     "data": {
      "image/png": "[encoded data removed]",
      "text/plain": [
       "plot without title"
      ]
     },
     "metadata": {
      "image/png": {
       "height": 420,
       "width": 420
      }
     },
     "output_type": "display_data"
    }
   ],
   "source": [
    "# Kn/Ks PLOT\n",
    "# USING SHORT DAY LEAF DATA ONLY\n",
    "#:::::::::::::::::::::::::::::::::::::\n",
    "CoGeSynt_CycAllelicPairs_Plot_SD <- CoGeSynExprCyc  %>% \n",
    "            filter(Tissue == 'Leaf', Condition == 'SD') %>% \n",
    "            filter (!is.na(Syntelog)) %>% \n",
    "    \n",
    "            filter( Ks> 0.001, Ks < 3) %>% ## PAT EDGER USES Ks<3 cut off\n",
    "\n",
    "  mutate(Rhythmic_Alleles = case_when(ADJ.P1 < 0.001 & ADJ.P2 < 0.001 ~ '2',\n",
    "                                        ADJ.P1 >= 0.001 & ADJ.P2 >= 0.001  ~ '0',\n",
    "                                      ADJ.P1 < 0.001 & ADJ.P2 >= 0.001  ~ '1',\n",
    "                                       ADJ.P1 >= 0.001 & ADJ.P2 < 0.001 ~'1')) %>% \n",
    "\n",
    "            mutate(Rhythmic_Alleles = factor(Rhythmic_Alleles, levels = c('0','1','2'))) %>%\n",
    "            filter(!is.na(Rhythmic_Alleles)) %>%\n",
    "           \n",
    "                   ggplot(aes(x= Rhythmic_Alleles, y = Kn/Ks))+\n",
    "  \n",
    "            geom_boxplot( aes(col = 'black', fill = Rhythmic_Alleles), outlier.shape = NA)+  \n",
    "    \n",
    "            labs(y=\"Kn/Ks\", x=\"Rhythmic alleles in pair\")+\n",
    "          \n",
    "          coord_cartesian(ylim=c(0,0.95))+\n",
    "\n",
    "stat_summary(fun = mean,\n",
    "               geom = \"crossbar\", \n",
    "               width = 0.1,\n",
    "             colour = \"#E8B7DA\")+  \n",
    "                   \n",
    " \n",
    "         scale_color_manual(values = c('2' = '#33539E',  ##1F449C #darker blue/grey\n",
    "                                    '1'= '#A5678E',   ##7CA1CC\n",
    "                                      '0' = '#969ba8'))+ # blue\n",
    "    scale_fill_manual(values = alpha(c('2' = '#33539E', #darker blue/grey  '#1F449C'\n",
    "                                    '1'= '#A5678E',   #7CA1CC\n",
    "                                      '0' = '#969ba8')))+\n",
    "\n",
    "                      \n",
    "   \n",
    "theme_classic()+\n",
    "            theme (\n",
    "            axis.title.x = element_text(size = 20),\n",
    "            axis.title.y = element_text(size = 20),\n",
    "            axis.text = element_text(size = 20, color = \"black\"),\n",
    "                strip.text.x = element_text(size = 20),\n",
    "                #axis.text.x=element_text(angle=90,hjust=1,vjust = 0.3),\n",
    "            legend.position=\"none\")+\n",
    "\n",
    "\n",
    "geom_text( data = label_KnKs, aes(label = same, x=Rhythmic_Alleles, y = 0.95), nudge_x=0, nudge_y=0,check_overlap=T, size = 7.2) # Need to multiply by 0.36 to adjust to the other text sizes\n",
    "\n",
    "\n",
    "\n",
    "\n",
    "\n",
    "CoGeSynt_CycAllelicPairs_Plot_SD\n"
   ]
  },
  {
   "cell_type": "code",
   "execution_count": 36,
   "id": "5d394ab8-b78e-4111-a3e5-7992e5324076",
   "metadata": {},
   "outputs": [
    {
     "name": "stderr",
     "output_type": "stream",
     "text": [
      "Warning message:\n",
      "“\u001b[1m\u001b[22mNo shared levels found between `names(values)` of the manual scale and the\n",
      "data's \u001b[32mcolour\u001b[39m values.”\n",
      "Warning message:\n",
      "“\u001b[1m\u001b[22mNo shared levels found between `names(values)` of the manual scale and the\n",
      "data's \u001b[32mcolour\u001b[39m values.”\n"
     ]
    }
   ],
   "source": [
    "CoGeSynt_CycAllelicPairs_Plot_SD %>% ggsave(file=\"./Results/CoGeSynt_CycAllelicPairs_Plot_SD.pdf\", \n",
    "                            width=4, height=4.5, dpi=600)"
   ]
  },
  {
   "cell_type": "code",
   "execution_count": null,
   "id": "31b1eba8-e35e-4710-9ae8-27ac2fa0a717",
   "metadata": {},
   "outputs": [],
   "source": []
  },
  {
   "cell_type": "code",
   "execution_count": 37,
   "id": "4276215f-e860-472f-bbdc-4175dfc21e96",
   "metadata": {},
   "outputs": [
    {
     "name": "stderr",
     "output_type": "stream",
     "text": [
      "Warning message:\n",
      "“\u001b[1m\u001b[22mNo shared levels found between `names(values)` of the manual scale and the\n",
      "data's \u001b[32mcolour\u001b[39m values.”\n",
      "Warning message:\n",
      "“\u001b[1m\u001b[22mNo shared levels found between `names(values)` of the manual scale and the\n",
      "data's \u001b[32mcolour\u001b[39m values.”\n"
     ]
    },
    {
     "data": {
      "image/png": "[encoded data removed]",
      "text/plain": [
       "plot without title"
      ]
     },
     "metadata": {
      "image/png": {
       "height": 420,
       "width": 420
      }
     },
     "output_type": "display_data"
    }
   ],
   "source": [
    "# Kn/Ks PLOT\n",
    "# USING LONG DAY LEAF DATA ONLY\n",
    "#:::::::::::::::::::::::::::::::::::::\n",
    "CoGeSynt_CycAllelicPairs_Plot_stats_LD <- CoGeSynExprCyc  %>% \n",
    "            filter(Tissue == 'Leaf', Condition == 'LD') %>% \n",
    "            filter (!is.na(Syntelog)) %>% \n",
    "    \n",
    "            filter( Ks> 0.001, Ks < 3) %>% ## PAT EDGER USES Ks<3 cut off\n",
    "\n",
    "  mutate(Rhythmic_Alleles = case_when(ADJ.P1 < 0.001 & ADJ.P2 < 0.001 ~ '2',\n",
    "                                        ADJ.P1 >= 0.001 & ADJ.P2 >= 0.001  ~ '0',\n",
    "                                      ADJ.P1 < 0.001 & ADJ.P2 >= 0.001  ~ '1',\n",
    "                                       ADJ.P1 >= 0.001 & ADJ.P2 < 0.001 ~'1')) %>% \n",
    "\n",
    "            mutate(Rhythmic_Alleles = factor(Rhythmic_Alleles, levels = c('0','1','2'))) %>%\n",
    "            filter(!is.na(Rhythmic_Alleles)) %>%\n",
    "           \n",
    "                   ggplot(aes(x= Rhythmic_Alleles, y = Kn/Ks))+\n",
    "  \n",
    "            geom_boxplot( aes(col = 'black', fill = Rhythmic_Alleles), outlier.shape = NA)+  \n",
    "    \n",
    "      \n",
    "            labs(y=\"Kn/Ks\", x=\"Rhythmic alleles in pair\")+\n",
    "          \n",
    "          coord_cartesian(ylim=c(0,2))+\n",
    "\n",
    "stat_summary(fun = mean,\n",
    "               geom = \"crossbar\", \n",
    "               width = 0.1,\n",
    "             colour = \"#E8B7DA\")+  \n",
    "                   \n",
    " \n",
    "         scale_color_manual(values = c('2' = '#33539E',  ##1F449C #darker blue/grey\n",
    "                                    '1'= '#A5678E',   ##7CA1CC\n",
    "                                      '0' = '#969ba8'))+ # blue\n",
    "    scale_fill_manual(values = alpha(c('2' = '#33539E', #darker blue/grey  '#1F449C'\n",
    "                                    '1'= '#A5678E',   #7CA1CC\n",
    "                                      '0' = '#969ba8')))+\n",
    "\n",
    "                      \n",
    "   \n",
    "theme_classic()+\n",
    "            theme (\n",
    "            axis.title.x = element_text(size = 20),\n",
    "            axis.title.y = element_text(size = 20),\n",
    "            axis.text = element_text(size = 20, color = \"black\"),\n",
    "                strip.text.x = element_text(size = 20),\n",
    "                #axis.text.x=element_text(angle=90,hjust=1,vjust = 0.3),\n",
    "            legend.position=\"none\")+\n",
    "\n",
    "\n",
    "stat_compare_means(method= 'kruskal.test',label.y = c(1.1), size = 4) + #Kruskal-Wallis multiple comparisons\n",
    "\n",
    " stat_compare_means(comparisons = list(c('1','2'), c('1', '0'), c('2','0')),   #Kruskal-Wallis multiple comparisons\n",
    "                    method = 'wilcox.test',       \n",
    "                    p.adjust.method=\"bonferroni\",\n",
    "                          symnum.args = list(cutpoints = c(0, 0.0001, 0.001, 0.01, 0.05, 1), \n",
    "                        symbols = c(\"****\", \"***\", \"**\", \"*\", \"ns\")),\n",
    "                        label.y = c(0.7, 0.85,1.0), size = 4,\n",
    "                  tip.length = 0.01) # Adhoc pairwise comparisons p-value\n",
    "\n",
    "\n",
    "\n",
    "CoGeSynt_CycAllelicPairs_Plot_stats_LD\n"
   ]
  },
  {
   "cell_type": "code",
   "execution_count": null,
   "id": "1c400b1e-b8ee-4b0e-956f-ab80426c60bf",
   "metadata": {},
   "outputs": [],
   "source": []
  }
 ],
 "metadata": {
  "kernelspec": {
   "display_name": "R4b",
   "language": "R",
   "name": "r4b"
  },
  "language_info": {
   "codemirror_mode": "r",
   "file_extension": ".r",
   "mimetype": "text/x-r-source",
   "name": "R",
   "pygments_lexer": "r",
   "version": "4.3.1"
  }
 },
 "nbformat": 4,
 "nbformat_minor": 5
}
